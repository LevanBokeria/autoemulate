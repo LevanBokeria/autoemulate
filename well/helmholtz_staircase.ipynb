{
 "cells": [
  {
   "cell_type": "code",
   "execution_count": null,
   "id": "3c65dfa2",
   "metadata": {},
   "outputs": [],
   "source": [
    "from the_well.data import WellDataset\n",
    "from torch.utils.data import DataLoader\n",
    "from the_well.utils.download import well_download\n",
    "import torch\n",
    "import os\n",
    "import numpy as np\n",
    "import matplotlib.pyplot as plt\n",
    "\n",
    "DEVICE = 'cuda' if torch.cuda.is_available() else 'cpu'\n",
    "BASE_PATH = './datasets'\n",
    "DATASET_NAME = 'helmholtz_staircase'"
   ]
  },
  {
   "cell_type": "code",
   "execution_count": null,
   "id": "8b95e009",
   "metadata": {},
   "outputs": [],
   "source": [
    "# is BASE_PATH + DATASET_NAME exists, then skip download\n",
    "if os.path.exists(os.path.join(BASE_PATH, DATASET_NAME)):\n",
    "    print(f\"Dataset {DATASET_NAME} already exists at {BASE_PATH}. Skipping download.\")\n",
    "else:\n",
    "    # Download the dataset\n",
    "    print(f\"Downloading {DATASET_NAME} dataset...\")\n",
    "    well_download(base_path=BASE_PATH, dataset=DATASET_NAME)\n",
    "    print(f\"Dataset {DATASET_NAME} downloaded to {BASE_PATH}.\")\n"
   ]
  },
  {
   "cell_type": "code",
   "execution_count": null,
   "id": "b893860f",
   "metadata": {},
   "outputs": [],
   "source": [
    "dataset = WellDataset(\n",
    "    well_base_path=BASE_PATH,\n",
    "    well_dataset_name=DATASET_NAME,\n",
    "    well_split_name='train',\n",
    "    n_steps_input=50,\n",
    "    n_steps_output=0,\n",
    "\n",
    ")"
   ]
  },
  {
   "cell_type": "markdown",
   "id": "837c33e0",
   "metadata": {},
   "source": [
    "# Quickly checking what data changes from one trrajectory to another"
   ]
  },
  {
   "cell_type": "code",
   "execution_count": null,
   "id": "af7c9bfc",
   "metadata": {},
   "outputs": [],
   "source": [
    "# Compare the outputs of dataset[0] and dataset[1]\n",
    "output_0 = dataset[99]\n",
    "output_1 = dataset[100]\n",
    "\n",
    "# Find keys with non-zero differences\n",
    "keys_with_differences = []\n",
    "for key in output_0.keys():\n",
    "    if not torch.equal(output_0[key], output_1[key]):\n",
    "        keys_with_differences.append(key)\n",
    "\n",
    "        # Print the non-zero differences\n",
    "        diff = output_0[key] - output_1[key]\n",
    "        print(f\"Key: {key}, Difference: {diff.sum().item()}\")\n",
    "\n",
    "\n",
    "print(\"Keys with non-zero differences:\", keys_with_differences)"
   ]
  },
  {
   "cell_type": "markdown",
   "id": "d06106d2",
   "metadata": {},
   "source": [
    "## Plot Picture"
   ]
  },
  {
   "cell_type": "markdown",
   "id": "5c3d6b7f",
   "metadata": {},
   "source": [
    "Create Gif"
   ]
  },
  {
   "cell_type": "code",
   "execution_count": null,
   "id": "1e16f045",
   "metadata": {},
   "outputs": [],
   "source": [
    "from matplotlib.animation import PillowWriter, FuncAnimation\n",
    "\n",
    "def plot_step(dataset, trajectory_idx, field_idx, time_idx, save_dir, vrange='auto', ax=None):\n",
    "    # Get the trajectory data\n",
    "    images = dataset[trajectory_idx]['input_fields'][:, 256+128:(256*3)+1+128, 128:, field_idx]\n",
    "    field_name = dataset.metadata.field_names[0][field_idx]\n",
    "    abs_max = images.abs().max()\n",
    "\n",
    "    if vrange == 'auto':\n",
    "        vmin, vmax = -abs_max, abs_max\n",
    "    elif vrange is None:\n",
    "        vmin, vmax = None, None\n",
    "    else:\n",
    "        vmin, vmax = vrange\n",
    "\n",
    "\n",
    "    # Create a figure and axis\n",
    "    if ax is None:\n",
    "        fig, ax = plt.subplots(figsize=(12, 12))\n",
    "\n",
    "    # Plot the first frame\n",
    "    im = ax.imshow(images[time_idx].T, cmap='bwr', vmin=vmin, vmax=vmax)\n",
    "    ax.set_title(f\"Trajectory {trajectory_idx}, Field {field_name}, Time {time_idx}\")\n",
    "\n",
    "    #Add colorbar\n",
    "    cbar = plt.colorbar(im, ax=ax, fraction=0.01, pad=0.04)\n",
    "    cbar.ax.set_ylabel(field_name, rotation=270, labelpad=15)\n",
    "    ax.axis('off')\n",
    "\n",
    "    if save_dir is not None:\n",
    "        # Save the figure\n",
    "        output_path = os.path.join(save_dir, f\"T{trajectory_idx}_{field_name}_time_{time_idx}.png\")\n",
    "        plt.savefig(output_path)\n",
    "        print(f\"Image saved at {output_path}\")\n",
    "    return ax\n",
    "\n",
    "def generate_gif(dataset, trajectory_idx: int, field_idx: int, save_dir):\n",
    "\n",
    "    images = dataset[trajectory_idx]['input_fields'][0, :, :, field_idx]\n",
    "    field_name = dataset.metadata.field_names[0][field_idx]\n",
    "    omega = dataset[trajectory_idx]['constant_scalars'].item()\n",
    "    vmin, vmax = images.min(), images.max()\n",
    "\n",
    "    # Prepare the figure\n",
    "    fig, ax = plt.subplots(figsize=(12, 12))\n",
    "    im = ax.imshow(images.T, cmap='bwr', vmin=vmin, vmax=vmax)\n",
    "    #Add colorbar\n",
    "    cbar = plt.colorbar(im, ax=ax)\n",
    "    cbar.ax.set_ylabel(field_name, rotation=270, labelpad=15)\n",
    "\n",
    "    # Reduce size of colorbar\n",
    "    cbar.ax.yaxis.set_label_coords(1.5, 0.5)\n",
    "    ax.set_title(f\"Frame 0\")\n",
    "\n",
    "    ax.axis('off')\n",
    "\n",
    "    # Update function for the animation\n",
    "    def update(frame):\n",
    "        im.set_data(dataset[trajectory_idx]['input_fields'][frame, :, :, field_idx].T)\n",
    "        ax.set_title(f\"Frame {frame}\")\n",
    "        return [im]\n",
    "\n",
    "    # Create the animation\n",
    "    num_frames = dataset[trajectory_idx]['input_fields'].shape[0]\n",
    "    ani = FuncAnimation(fig, update, frames=num_frames, blit=True)\n",
    "\n",
    "    # Save the animation as a GIF\n",
    "    output_path = os.path.join(save_dir, f\"T{trajectory_idx}_{field_name}_omega_{omega:.3f}.gif\")\n",
    "    ani.save(output_path, writer=PillowWriter(fps=1))\n",
    "    print(f\"GIF saved at {output_path}\")\n",
    "\n"
   ]
  },
  {
   "cell_type": "code",
   "execution_count": null,
   "id": "ea10664f",
   "metadata": {},
   "outputs": [],
   "source": []
  },
  {
   "cell_type": "code",
   "execution_count": null,
   "id": "c0b649a3",
   "metadata": {},
   "outputs": [],
   "source": [
    "fig, axes = plt.subplots(8, 4, figsize=(40, 40))\n",
    "for i in range(len(axes.flat)):\n",
    "    traj_idx = 352 + i\n",
    "    plot_step(dataset, trajectory_idx=traj_idx, field_idx=1, time_idx=40, save_dir=BASE_PATH, vrange=(-0.6, 0.6), ax=axes.flat[i])\n",
    "plt.tight_layout()\n"
   ]
  },
  {
   "cell_type": "code",
   "execution_count": null,
   "id": "33f16cf2",
   "metadata": {},
   "outputs": [],
   "source": [
    "cnt = 0\n",
    "for i in range(0, len(dataset), 32):\n",
    "\n",
    "    save_dir = os.path.join(BASE_PATH, DATASET_NAME, 'gifs', f'trajectory_{i}')\n",
    "    if not os.path.exists(save_dir):\n",
    "        print(f\"Creating directory {save_dir}\")\n",
    "        os.makedirs(save_dir)\n",
    "\n",
    "    generate_gif(dataset, trajectory_idx=i, field_idx=0, save_dir=save_dir)\n",
    "    generate_gif(dataset, trajectory_idx=i, field_idx=1, save_dir=save_dir)\n",
    "\n",
    "    cnt+=1\n",
    "    if cnt > 10:\n",
    "        break"
   ]
  }
 ],
 "metadata": {
  "kernelspec": {
   "display_name": "the_well",
   "language": "python",
   "name": "python3"
  },
  "language_info": {
   "codemirror_mode": {
    "name": "ipython",
    "version": 3
   },
   "file_extension": ".py",
   "mimetype": "text/x-python",
   "name": "python",
   "nbconvert_exporter": "python",
   "pygments_lexer": "ipython3",
   "version": "3.13.3"
  }
 },
 "nbformat": 4,
 "nbformat_minor": 5
}
