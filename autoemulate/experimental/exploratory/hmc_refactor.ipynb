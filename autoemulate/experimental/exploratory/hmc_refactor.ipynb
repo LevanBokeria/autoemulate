{
 "cells": [
  {
   "cell_type": "markdown",
   "metadata": {},
   "source": [
    "## 0. Simulate some data and fit an emulator"
   ]
  },
  {
   "cell_type": "code",
   "execution_count": 1,
   "metadata": {},
   "outputs": [],
   "source": [
    "import torch\n",
    "\n",
    "from autoemulate.experimental.simulations.projectile import ProjectileMultioutput\n",
    "from autoemulate.experimental.emulators.gaussian_process.exact import (\n",
    "    GaussianProcessExact,\n",
    ")"
   ]
  },
  {
   "cell_type": "code",
   "execution_count": 2,
   "metadata": {},
   "outputs": [
    {
     "name": "stderr",
     "output_type": "stream",
     "text": [
      "Running simulations:   0%|          | 0/100 [00:00<?, ?it/s]"
     ]
    },
    {
     "name": "stderr",
     "output_type": "stream",
     "text": [
      "Running simulations: 100%|██████████| 100/100 [00:00<00:00, 1190.39it/s]"
     ]
    },
    {
     "name": "stdout",
     "output_type": "stream",
     "text": [
      "Successfully completed 100/100 simulations (100.0%)\n"
     ]
    },
    {
     "name": "stderr",
     "output_type": "stream",
     "text": [
      "\n"
     ]
    }
   ],
   "source": [
    "sim = ProjectileMultioutput()\n",
    "x = sim.sample_inputs(100)\n",
    "y = sim.forward_batch(x)"
   ]
  },
  {
   "cell_type": "code",
   "execution_count": 3,
   "metadata": {},
   "outputs": [],
   "source": [
    "gp = GaussianProcessExact(x, y)\n",
    "gp.fit(x, y)"
   ]
  },
  {
   "cell_type": "markdown",
   "metadata": {},
   "source": [
    "## 1. Simple HMC example."
   ]
  },
  {
   "cell_type": "code",
   "execution_count": 4,
   "metadata": {},
   "outputs": [],
   "source": [
    "from autoemulate.experimental.calibration.hmc import HMCCalibrator"
   ]
  },
  {
   "cell_type": "markdown",
   "metadata": {},
   "source": [
    "Lets start with an observation inside the training range, we should be able to recover the input parameters.\n",
    "\n",
    "In other words, just pick as observation one row of our simulated values."
   ]
  },
  {
   "cell_type": "code",
   "execution_count": 5,
   "metadata": {},
   "outputs": [],
   "source": [
    "idx = 4\n",
    "observations = {\n",
    "    param: val for param, val in \n",
    "    zip(sim.output_names, y[idx, :])\n",
    "}"
   ]
  },
  {
   "cell_type": "code",
   "execution_count": 16,
   "metadata": {},
   "outputs": [
    {
     "name": "stdout",
     "output_type": "stream",
     "text": [
      "Inputs:  tensor([1.4571e-01, 2.8744e+02])\n",
      "Outputs:  tensor([3.1372, 2.6470], dtype=torch.float64)\n"
     ]
    }
   ],
   "source": [
    "print(\"Inputs: \", x[idx])\n",
    "print(\"Outputs: \", y[idx])"
   ]
  },
  {
   "cell_type": "code",
   "execution_count": 6,
   "metadata": {},
   "outputs": [],
   "source": [
    "# use the simulator parameter_range \n",
    "hmc = HMCCalibrator(gp, sim.parameters_range, observations, 1.0)"
   ]
  },
  {
   "cell_type": "markdown",
   "metadata": {},
   "source": [
    "Run MCMC (note that below we have set the number of MCMC steps to a very low number, don't expect convergence)."
   ]
  },
  {
   "cell_type": "code",
   "execution_count": 23,
   "metadata": {},
   "outputs": [
    {
     "name": "stderr",
     "output_type": "stream",
     "text": [
      "Sample: 100%|██████████| 250/250 [07:46,  1.87s/it, step size=1.44e-04, acc. prob=0.274]\n"
     ]
    }
   ],
   "source": [
    "mcmc = hmc.run_mcmc(warmup_steps=50, num_samples=200)"
   ]
  },
  {
   "cell_type": "markdown",
   "metadata": {},
   "source": [
    "The returned Pyro MCMC object has methods for accessing the generated samples (`mcmc.get_samples()`) or, as shown below, to get just their summary statistics."
   ]
  },
  {
   "cell_type": "code",
   "execution_count": 24,
   "metadata": {},
   "outputs": [
    {
     "name": "stdout",
     "output_type": "stream",
     "text": [
      "\n",
      "                mean       std    median      5.0%     95.0%     n_eff     r_hat\n",
      "         c      0.48      0.15      0.50      0.27      0.72      4.41      1.85\n",
      "        v0    461.84     54.74    484.13    364.89    526.73     24.59      1.00\n",
      "\n",
      "Number of divergences: 7\n"
     ]
    }
   ],
   "source": [
    "mcmc.summary()"
   ]
  },
  {
   "cell_type": "code",
   "execution_count": 25,
   "metadata": {},
   "outputs": [
    {
     "data": {
      "text/plain": [
       "{'c': tensor([0.4973, 0.5020, 0.5030, 0.5077, 0.5118, 0.4779, 0.4899, 0.4877, 0.5523,\n",
       "         0.5548, 0.5588, 0.5680, 0.5733, 0.5723, 0.5744, 0.6222, 0.6200, 0.5790,\n",
       "         0.5935, 0.4949, 0.5256, 0.5346, 0.5497, 0.5776, 0.6061, 0.6270, 0.6969,\n",
       "         0.7057, 0.6817, 0.5906, 0.6328, 0.6397, 0.5882, 0.6164, 0.6668, 0.7094,\n",
       "         0.7168, 0.7144, 0.7118, 0.7007, 0.7059, 0.7028, 0.6971, 0.6935, 0.6702,\n",
       "         0.6709, 0.6706, 0.6616, 0.6592, 0.6540, 0.6508, 0.6613, 0.6582, 0.6244,\n",
       "         0.4305, 0.4151, 0.4136, 0.4411, 0.4276, 0.5262, 0.5125, 0.4745, 0.4714,\n",
       "         0.4813, 0.5758, 0.5710, 0.5668, 0.5657, 0.5668, 0.5795, 0.5707, 0.5687,\n",
       "         0.5088, 0.5386, 0.6977, 0.7210, 0.6428, 0.6358, 0.6391, 0.6078, 0.6218,\n",
       "         0.6587, 0.6623, 0.6580, 0.6379, 0.6128, 0.6317, 0.6311, 0.6640, 0.6748,\n",
       "         0.6403, 0.5807, 0.5744, 0.5224, 0.5254, 0.5619, 0.5678, 0.5837, 0.5970,\n",
       "         0.5844, 0.5092, 0.4979, 0.4684, 0.4584, 0.4595, 0.4484, 0.4535, 0.4607,\n",
       "         0.4621, 0.5210, 0.5724, 0.5727, 0.5286, 0.5282, 0.5288, 0.5048, 0.4804,\n",
       "         0.2762, 0.2777, 0.2862, 0.2653, 0.2862, 0.3104, 0.1698, 0.1477, 0.1530,\n",
       "         0.1779, 0.1705, 0.3383, 0.3376, 0.3454, 0.3620, 0.3620, 0.4417, 0.3989,\n",
       "         0.4171, 0.4203, 0.4193, 0.4201, 0.4449, 0.4643, 0.4489, 0.3877, 0.1452,\n",
       "         0.1734, 0.0941, 0.2249, 0.2234, 0.2695, 0.2718, 0.3166, 0.3186, 0.2483,\n",
       "         0.2892, 0.2973, 0.2927, 0.2358, 0.2564, 0.2867, 0.2920, 0.2963, 0.3186,\n",
       "         0.3155, 0.3148, 0.3834, 0.3655, 0.4141, 0.4127, 0.4325, 0.4418, 0.4353,\n",
       "         0.4803, 0.4990, 0.4873, 0.3904, 0.4369, 0.4341, 0.4348, 0.4304, 0.4833,\n",
       "         0.4783, 0.5160, 0.5031, 0.4992, 0.4527, 0.4618, 0.4743, 0.4687, 0.4308,\n",
       "         0.4339, 0.4485, 0.4354, 0.3646, 0.4769, 0.0898, 0.0890, 0.1362, 0.1309,\n",
       "         0.1788, 0.1778]),\n",
       " 'v0': tensor([481.7632, 484.7048, 484.2891, 480.7836, 480.1774, 478.4112, 485.0833,\n",
       "         488.5081, 489.0186, 486.7433, 483.6226, 486.9145, 485.2078, 482.7455,\n",
       "         483.8597, 484.6788, 482.2232, 392.5759, 390.7519, 374.5661, 334.8061,\n",
       "         335.5984, 386.7384, 381.1787, 368.5339, 336.2028, 523.5225, 526.5505,\n",
       "         525.8926, 490.9669, 523.6005, 486.1764, 524.2385, 488.4057, 481.4947,\n",
       "         487.2194, 488.8465, 494.8557, 489.4955, 525.0684, 486.0375, 480.3349,\n",
       "         487.1519, 490.4721, 486.7820, 484.1315, 485.9995, 490.8217, 482.7727,\n",
       "         485.1162, 484.3326, 489.7468, 485.4145, 388.4955, 387.3262, 361.2098,\n",
       "         362.4973, 363.9148, 370.6485, 481.4500, 525.3455, 486.2609, 481.3277,\n",
       "         486.4548, 491.2338, 487.6236, 483.9135, 487.8348, 486.7729, 489.0520,\n",
       "         486.9429, 482.6328, 377.9778, 363.0970, 459.3814, 489.2462, 527.8994,\n",
       "         489.2108, 483.7986, 490.3597, 486.8004, 479.9093, 490.1570, 486.0506,\n",
       "         478.7169, 489.2533, 483.6343, 492.0615, 362.5279, 363.7189, 365.4262,\n",
       "         482.0218, 487.3140, 483.8708, 488.3567, 491.9903, 487.5551, 481.3245,\n",
       "         485.9247, 488.9706, 491.7703, 482.9647, 486.0799, 488.6063, 489.8321,\n",
       "         483.6568, 490.4109, 487.5424, 478.8195, 520.3691, 480.5452, 483.8165,\n",
       "         485.3732, 488.9719, 486.1353, 483.0177, 478.8196, 486.1527, 484.5294,\n",
       "         481.7021, 483.8743, 479.3599, 524.9432, 491.2009, 485.6890, 487.3923,\n",
       "         479.8524, 523.7623, 483.7268, 481.2628, 487.2873, 524.9438, 525.6127,\n",
       "         574.1588, 492.9056, 488.2477, 481.4124, 483.8036, 488.9362, 480.9583,\n",
       "         490.3117, 482.3074, 387.7382, 377.5205, 371.2396, 368.1981, 485.1795,\n",
       "         481.3776, 486.8819, 483.7552, 524.4222, 527.6342, 529.5041, 488.1090,\n",
       "         485.0371, 487.5506, 483.0696, 478.6378, 526.7278, 523.0134, 526.0421,\n",
       "         482.0114, 485.6472, 483.6548, 524.9911, 522.3795, 488.5891, 478.9581,\n",
       "         485.3188, 478.2481, 378.0308, 365.5392, 362.6568, 369.5056, 329.6121,\n",
       "         367.9408, 365.6855, 364.4456, 368.9188, 368.0574, 367.4726, 362.8342,\n",
       "         367.3014, 360.6847, 373.8995, 378.8294, 387.3905, 375.7199, 365.9970,\n",
       "         365.4117, 374.8143, 363.6868, 364.8935, 370.0524, 484.7056, 482.3520,\n",
       "         488.7231, 479.7770, 488.0721, 480.5054])}"
      ]
     },
     "execution_count": 25,
     "metadata": {},
     "output_type": "execute_result"
    }
   ],
   "source": [
    "mcmc.get_samples()"
   ]
  },
  {
   "cell_type": "code",
   "execution_count": 28,
   "metadata": {},
   "outputs": [
    {
     "data": {
      "text/plain": [
       "tensor([[3.1372, 2.6470],\n",
       "        [3.1372, 2.6470],\n",
       "        [3.1372, 2.6470],\n",
       "        [3.1372, 2.6470],\n",
       "        [3.1372, 2.6470],\n",
       "        [3.1372, 2.6470],\n",
       "        [3.1372, 2.6470],\n",
       "        [3.1372, 2.6470],\n",
       "        [3.1372, 2.6470],\n",
       "        [3.1372, 2.6470],\n",
       "        [3.1372, 2.6470],\n",
       "        [3.1372, 2.6470],\n",
       "        [3.1372, 2.6470],\n",
       "        [3.1372, 2.6470],\n",
       "        [3.1372, 2.6470],\n",
       "        [3.1372, 2.6470],\n",
       "        [3.1372, 2.6470],\n",
       "        [3.1372, 2.6470],\n",
       "        [3.1372, 2.6470],\n",
       "        [3.1372, 2.6470],\n",
       "        [3.1372, 2.6470],\n",
       "        [3.1372, 2.6470],\n",
       "        [3.1372, 2.6470],\n",
       "        [3.1372, 2.6470],\n",
       "        [3.1372, 2.6470],\n",
       "        [3.1372, 2.6470],\n",
       "        [3.1372, 2.6470],\n",
       "        [3.1372, 2.6470],\n",
       "        [3.1372, 2.6470],\n",
       "        [3.1372, 2.6470],\n",
       "        [3.1372, 2.6470],\n",
       "        [3.1372, 2.6470],\n",
       "        [3.1372, 2.6470],\n",
       "        [3.1372, 2.6470],\n",
       "        [3.1372, 2.6470],\n",
       "        [3.1372, 2.6470],\n",
       "        [3.1372, 2.6470],\n",
       "        [3.1372, 2.6470],\n",
       "        [3.1372, 2.6470],\n",
       "        [3.1372, 2.6470],\n",
       "        [3.1372, 2.6470],\n",
       "        [3.1372, 2.6470],\n",
       "        [3.1372, 2.6470],\n",
       "        [3.1372, 2.6470],\n",
       "        [3.1372, 2.6470],\n",
       "        [3.1372, 2.6470],\n",
       "        [3.1372, 2.6470],\n",
       "        [3.1372, 2.6470],\n",
       "        [3.1372, 2.6470],\n",
       "        [3.1372, 2.6470],\n",
       "        [3.1372, 2.6470],\n",
       "        [3.1372, 2.6470],\n",
       "        [3.1372, 2.6470],\n",
       "        [3.1372, 2.6470],\n",
       "        [3.1372, 2.6470],\n",
       "        [3.1372, 2.6470],\n",
       "        [3.1372, 2.6470],\n",
       "        [3.1372, 2.6470],\n",
       "        [3.1372, 2.6470],\n",
       "        [3.1372, 2.6470],\n",
       "        [3.1372, 2.6470],\n",
       "        [3.1372, 2.6470],\n",
       "        [3.1372, 2.6470],\n",
       "        [3.1372, 2.6470],\n",
       "        [3.1372, 2.6470],\n",
       "        [3.1372, 2.6470],\n",
       "        [3.1372, 2.6470],\n",
       "        [3.1372, 2.6470],\n",
       "        [3.1372, 2.6470],\n",
       "        [3.1372, 2.6470],\n",
       "        [3.1372, 2.6470],\n",
       "        [3.1372, 2.6470],\n",
       "        [3.1372, 2.6470],\n",
       "        [3.1372, 2.6470],\n",
       "        [3.1372, 2.6470],\n",
       "        [3.1372, 2.6470],\n",
       "        [3.1372, 2.6470],\n",
       "        [3.1372, 2.6470],\n",
       "        [3.1372, 2.6470],\n",
       "        [3.1372, 2.6470],\n",
       "        [3.1372, 2.6470],\n",
       "        [3.1372, 2.6470],\n",
       "        [3.1372, 2.6470],\n",
       "        [3.1372, 2.6470],\n",
       "        [3.1372, 2.6470],\n",
       "        [3.1372, 2.6470],\n",
       "        [3.1372, 2.6470],\n",
       "        [3.1372, 2.6470],\n",
       "        [3.1372, 2.6470],\n",
       "        [3.1372, 2.6470],\n",
       "        [3.1372, 2.6470],\n",
       "        [3.1372, 2.6470],\n",
       "        [3.1372, 2.6470],\n",
       "        [3.1372, 2.6470],\n",
       "        [3.1372, 2.6470],\n",
       "        [3.1372, 2.6470],\n",
       "        [3.1372, 2.6470],\n",
       "        [3.1372, 2.6470],\n",
       "        [3.1372, 2.6470],\n",
       "        [3.1372, 2.6470],\n",
       "        [3.1372, 2.6470],\n",
       "        [3.1372, 2.6470],\n",
       "        [3.1372, 2.6470],\n",
       "        [3.1372, 2.6470],\n",
       "        [3.1372, 2.6470],\n",
       "        [3.1372, 2.6470],\n",
       "        [3.1372, 2.6470],\n",
       "        [3.1372, 2.6470],\n",
       "        [3.1372, 2.6470],\n",
       "        [3.1372, 2.6470],\n",
       "        [3.1372, 2.6470],\n",
       "        [3.1372, 2.6470],\n",
       "        [3.1372, 2.6470],\n",
       "        [3.1372, 2.6470],\n",
       "        [3.1372, 2.6470],\n",
       "        [3.1372, 2.6470],\n",
       "        [3.1372, 2.6470],\n",
       "        [3.1372, 2.6470],\n",
       "        [3.1372, 2.6470],\n",
       "        [3.1372, 2.6470],\n",
       "        [3.1372, 2.6470],\n",
       "        [3.1372, 2.6470],\n",
       "        [3.1372, 2.6470],\n",
       "        [3.1372, 2.6470],\n",
       "        [3.1372, 2.6470],\n",
       "        [3.1372, 2.6470],\n",
       "        [3.1372, 2.6470],\n",
       "        [3.1372, 2.6470],\n",
       "        [3.1372, 2.6470],\n",
       "        [3.1372, 2.6470],\n",
       "        [3.1372, 2.6470],\n",
       "        [3.1372, 2.6470],\n",
       "        [3.1372, 2.6470],\n",
       "        [3.1372, 2.6470],\n",
       "        [3.1372, 2.6470],\n",
       "        [3.1372, 2.6470],\n",
       "        [3.1372, 2.6470],\n",
       "        [3.1372, 2.6470],\n",
       "        [3.1372, 2.6470],\n",
       "        [3.1372, 2.6470],\n",
       "        [3.1372, 2.6470],\n",
       "        [3.1372, 2.6470],\n",
       "        [3.1372, 2.6470],\n",
       "        [3.1372, 2.6470],\n",
       "        [3.1372, 2.6470],\n",
       "        [3.1372, 2.6470],\n",
       "        [3.1372, 2.6470],\n",
       "        [3.1372, 2.6470],\n",
       "        [3.1372, 2.6470],\n",
       "        [3.1372, 2.6470],\n",
       "        [3.1372, 2.6470],\n",
       "        [3.1372, 2.6470],\n",
       "        [3.1372, 2.6470],\n",
       "        [3.1372, 2.6470],\n",
       "        [3.1372, 2.6470],\n",
       "        [3.1372, 2.6470],\n",
       "        [3.1372, 2.6470],\n",
       "        [3.1372, 2.6470],\n",
       "        [3.1372, 2.6470],\n",
       "        [3.1372, 2.6470],\n",
       "        [3.1372, 2.6470],\n",
       "        [3.1372, 2.6470],\n",
       "        [3.1372, 2.6470],\n",
       "        [3.1372, 2.6470],\n",
       "        [3.1372, 2.6470],\n",
       "        [3.1372, 2.6470],\n",
       "        [3.1372, 2.6470],\n",
       "        [3.1372, 2.6470],\n",
       "        [3.1372, 2.6470],\n",
       "        [3.1372, 2.6470],\n",
       "        [3.1372, 2.6470],\n",
       "        [3.1372, 2.6470],\n",
       "        [3.1372, 2.6470],\n",
       "        [3.1372, 2.6470],\n",
       "        [3.1372, 2.6470],\n",
       "        [3.1372, 2.6470],\n",
       "        [3.1372, 2.6470],\n",
       "        [3.1372, 2.6470],\n",
       "        [3.1372, 2.6470],\n",
       "        [3.1372, 2.6470],\n",
       "        [3.1372, 2.6470],\n",
       "        [3.1372, 2.6470],\n",
       "        [3.1372, 2.6470],\n",
       "        [3.1372, 2.6470],\n",
       "        [3.1372, 2.6470],\n",
       "        [3.1372, 2.6470],\n",
       "        [3.1372, 2.6470],\n",
       "        [3.1372, 2.6470],\n",
       "        [3.1372, 2.6470],\n",
       "        [3.1372, 2.6470],\n",
       "        [3.1372, 2.6470],\n",
       "        [3.1372, 2.6470],\n",
       "        [3.1372, 2.6470],\n",
       "        [3.1372, 2.6470],\n",
       "        [3.1372, 2.6470],\n",
       "        [3.1372, 2.6470],\n",
       "        [3.1372, 2.6470],\n",
       "        [3.1372, 2.6470],\n",
       "        [3.1372, 2.6470],\n",
       "        [3.1372, 2.6470]], dtype=torch.float64)"
      ]
     },
     "execution_count": 28,
     "metadata": {},
     "output_type": "execute_result"
    }
   ],
   "source": [
    "hmc.posterior_predictive(mcmc)"
   ]
  },
  {
   "cell_type": "markdown",
   "metadata": {},
   "source": [
    "## 2. Combining this with sensitivity analysis and history matching."
   ]
  },
  {
   "cell_type": "markdown",
   "metadata": {},
   "source": [
    "The `HMCCalibrator` object has an option to provide a list of parameters to calibrate. These can be the result of `SensitivityAnalysis`, or just a list provided by the user.\n",
    "\n",
    "Similarly, the user provides parameter ranges from which to sample or set the parameter values. This can be simply the range of the simulator or one can use `HistoryMatching` to reduce the parameter range and pass that to the `HMCCalibrator` instead. \n",
    "\n",
    "Below we demonstrate how to do both."
   ]
  },
  {
   "cell_type": "code",
   "execution_count": 29,
   "metadata": {},
   "outputs": [],
   "source": [
    "from autoemulate.experimental.sensitivity_analysis import SensitivityAnalysis\n",
    "from autoemulate.experimental.calibration.history_matching import HistoryMatching"
   ]
  },
  {
   "cell_type": "markdown",
   "metadata": {},
   "source": [
    "1. Run sensitivity analysis and get top N parameters (here we just get the top 1)."
   ]
  },
  {
   "cell_type": "code",
   "execution_count": 30,
   "metadata": {},
   "outputs": [
    {
     "name": "stderr",
     "output_type": "stream",
     "text": [
      "/Users/rjersakova/Documents/Projects/autoemulate/.venv/lib/python3.12/site-packages/SALib/util/__init__.py:274: FutureWarning: unique with argument that is not not a Series, Index, ExtensionArray, or np.ndarray is deprecated and will raise in a future version.\n",
      "  names = list(pd.unique(groups))\n",
      "/Users/rjersakova/Documents/Projects/autoemulate/.venv/lib/python3.12/site-packages/SALib/util/__init__.py:274: FutureWarning: unique with argument that is not not a Series, Index, ExtensionArray, or np.ndarray is deprecated and will raise in a future version.\n",
      "  names = list(pd.unique(groups))\n"
     ]
    }
   ],
   "source": [
    "problem = {\n",
    "        \"num_vars\": 2,\n",
    "        \"names\": sim.param_names,\n",
    "        \"bounds\": sim.param_bounds,\n",
    "    }\n",
    "sa = SensitivityAnalysis(gp, problem=problem)\n",
    "df = sa.run(\"sobol\")"
   ]
  },
  {
   "cell_type": "markdown",
   "metadata": {},
   "source": [
    "Notice that the output is just a list of strings, the user does not need to run SA to set a subset of parameters to calibrate."
   ]
  },
  {
   "cell_type": "code",
   "execution_count": 31,
   "metadata": {},
   "outputs": [
    {
     "data": {
      "text/plain": [
       "['v0']"
      ]
     },
     "execution_count": 31,
     "metadata": {},
     "output_type": "execute_result"
    }
   ],
   "source": [
    "top_param = sa.top_n_sobol_params(df, 1)\n",
    "top_param"
   ]
  },
  {
   "cell_type": "markdown",
   "metadata": {},
   "source": [
    "2. Run history matching and generate new parameter bounds from NROY samples."
   ]
  },
  {
   "cell_type": "code",
   "execution_count": 32,
   "metadata": {},
   "outputs": [
    {
     "name": "stderr",
     "output_type": "stream",
     "text": [
      "/var/folders/bj/kdwy1bhj3h728lr5xdj19yd40000gr/T/ipykernel_76391/3687513851.py:3: UserWarning: To copy construct from a tensor, it is recommended to use sourceTensor.detach().clone() or sourceTensor.detach().clone().requires_grad_(True), rather than torch.tensor(sourceTensor).\n",
      "  output = gp.predict(torch.tensor(x_new, dtype=torch.float32))\n"
     ]
    }
   ],
   "source": [
    "# start with some GP predictions\n",
    "x_new = sim.sample_inputs(20)\n",
    "output = gp.predict(torch.tensor(x_new, dtype=torch.float32))\n",
    "pred_means, pred_vars = (\n",
    "    output.mean.float().detach(),\n",
    "    output.variance.float().detach(),\n",
    ")"
   ]
  },
  {
   "cell_type": "code",
   "execution_count": 33,
   "metadata": {},
   "outputs": [
    {
     "data": {
      "text/plain": [
       "tensor([[-5.7056e-01,  3.1014e+02],\n",
       "        [-9.8348e-01,  9.4139e+02],\n",
       "        [-9.9788e-02,  4.2735e+02],\n",
       "        [-2.1315e+00,  2.2844e+01],\n",
       "        [-1.1696e+00,  7.8298e+02],\n",
       "        [ 7.7927e-01,  8.2514e+02],\n",
       "        [-3.5781e-01,  6.5609e+02],\n",
       "        [-2.8925e+00,  1.2202e+02],\n",
       "        [ 3.1747e-01,  8.7228e+02],\n",
       "        [ 5.3147e-01,  3.7946e+02],\n",
       "        [-4.1902e+00,  5.3759e+01]])"
      ]
     },
     "execution_count": 33,
     "metadata": {},
     "output_type": "execute_result"
    }
   ],
   "source": [
    "# generate NROY samples\n",
    "hm = HistoryMatching(\n",
    "    # add noise to observations\n",
    "    observations={k: [v, 10.0] for k,v in observations.items()},\n",
    "    threshold=5.0,\n",
    "    rank=2\n",
    ")\n",
    "implausability = hm.calculate_implausibility(pred_means, pred_vars)\n",
    "nroy_samples = hm.get_nroy(implausability, x_new)\n",
    "nroy_samples"
   ]
  },
  {
   "cell_type": "markdown",
   "metadata": {},
   "source": [
    "The newly generated range is slightly narrower than the range of the simulator."
   ]
  },
  {
   "cell_type": "code",
   "execution_count": 34,
   "metadata": {},
   "outputs": [
    {
     "data": {
      "text/plain": [
       "{'c': (-4.438632011413574, 1.0277363061904907),\n",
       " 'v0': (-23.083009719848633, 987.3121337890625)}"
      ]
     },
     "execution_count": 34,
     "metadata": {},
     "output_type": "execute_result"
    }
   ],
   "source": [
    "# get new param bounds\n",
    "nroy_param_range = hm.generate_param_bounds(nroy_samples, param_names = sim.param_names)\n",
    "nroy_param_range"
   ]
  },
  {
   "cell_type": "markdown",
   "metadata": {},
   "source": [
    "3. Pass results to the HMCCalibrator object."
   ]
  },
  {
   "cell_type": "code",
   "execution_count": 35,
   "metadata": {},
   "outputs": [],
   "source": [
    "hmc = HMCCalibrator(\n",
    "    gp, \n",
    "    nroy_param_range, \n",
    "    observations, \n",
    "    1.0,\n",
    "    top_param\n",
    "    )"
   ]
  },
  {
   "cell_type": "code",
   "execution_count": 36,
   "metadata": {},
   "outputs": [
    {
     "name": "stderr",
     "output_type": "stream",
     "text": [
      "Sample: 100%|██████████| 110/110 [00:00, 372.58it/s, step size=2.65e+01, acc. prob=0.025]\n"
     ]
    }
   ],
   "source": [
    "mcmc = hmc.run_mcmc(warmup_steps=10, num_samples=100)"
   ]
  },
  {
   "cell_type": "code",
   "execution_count": 37,
   "metadata": {},
   "outputs": [
    {
     "name": "stdout",
     "output_type": "stream",
     "text": [
      "\n",
      "                mean       std    median      5.0%     95.0%     n_eff     r_hat\n",
      "        v0    -23.08      0.00    -23.08    -23.08    -23.08       nan       nan\n",
      "\n",
      "Number of divergences: 98\n"
     ]
    }
   ],
   "source": [
    "mcmc.summary()"
   ]
  }
 ],
 "metadata": {
  "kernelspec": {
   "display_name": ".venv",
   "language": "python",
   "name": "python3"
  },
  "language_info": {
   "codemirror_mode": {
    "name": "ipython",
    "version": 3
   },
   "file_extension": ".py",
   "mimetype": "text/x-python",
   "name": "python",
   "nbconvert_exporter": "python",
   "pygments_lexer": "ipython3",
   "version": "3.12.4"
  }
 },
 "nbformat": 4,
 "nbformat_minor": 2
}
