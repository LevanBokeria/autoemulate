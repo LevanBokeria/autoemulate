{
 "cells": [
  {
   "cell_type": "markdown",
   "metadata": {},
   "source": [
    "# Refactored HistoryMatching workflow example\n",
    "\n",
    "## 1. Set up"
   ]
  },
  {
   "cell_type": "code",
   "execution_count": 1,
   "metadata": {},
   "outputs": [],
   "source": [
    "import torch\n",
    "\n",
    "# imports from main\n",
    "from autoemulate.history_matching_dashboard import HistoryMatchingDashboard\n",
    "\n",
    "# imports from experimental\n",
    "from autoemulate.experimental.types import TensorLike\n",
    "from autoemulate.experimental.emulators.gaussian_process.exact import (\n",
    "    GaussianProcessExact,\n",
    ")\n",
    "from autoemulate.experimental.simulations.epidemic import Epidemic\n",
    "from autoemulate.experimental.history_matching import HistoryMatching, HistoryMatchingWorkflow"
   ]
  },
  {
   "cell_type": "markdown",
   "metadata": {},
   "source": [
    "### Simulate\n",
    "\n",
    "Set up a Simulator and generate data."
   ]
  },
  {
   "cell_type": "code",
   "execution_count": 2,
   "metadata": {},
   "outputs": [
    {
     "name": "stderr",
     "output_type": "stream",
     "text": [
      "Running simulations: 100%|██████████| 10/10 [00:00<00:00, 976.35it/s]"
     ]
    },
    {
     "name": "stdout",
     "output_type": "stream",
     "text": [
      "Successfully completed 10/10 simulations (100.0%)\n"
     ]
    },
    {
     "name": "stderr",
     "output_type": "stream",
     "text": [
      "\n"
     ]
    }
   ],
   "source": [
    "simulator = Epidemic()\n",
    "x = simulator.sample_inputs(10)\n",
    "y = simulator.forward_batch(x)"
   ]
  },
  {
   "cell_type": "markdown",
   "metadata": {},
   "source": [
    "### Train a GP\n",
    "\n",
    "(this should be done with AutoEmulate obviously)"
   ]
  },
  {
   "cell_type": "code",
   "execution_count": 3,
   "metadata": {},
   "outputs": [],
   "source": [
    "gp_pytorch = GaussianProcessExact(\n",
    "        x,\n",
    "        y,\n",
    "    )\n",
    "gp_pytorch.fit(x, y)"
   ]
  },
  {
   "cell_type": "markdown",
   "metadata": {},
   "source": [
    "### Generate predictions"
   ]
  },
  {
   "cell_type": "code",
   "execution_count": 4,
   "metadata": {},
   "outputs": [
    {
     "name": "stderr",
     "output_type": "stream",
     "text": [
      "/var/folders/bj/kdwy1bhj3h728lr5xdj19yd40000gr/T/ipykernel_65419/1935492425.py:2: UserWarning: To copy construct from a tensor, it is recommended to use sourceTensor.detach().clone() or sourceTensor.detach().clone().requires_grad_(True), rather than torch.tensor(sourceTensor).\n",
      "  output = gp_pytorch.predict(torch.tensor(x, dtype=torch.float32))\n"
     ]
    }
   ],
   "source": [
    "x = simulator.sample_inputs(5)\n",
    "output = gp_pytorch.predict(torch.tensor(x, dtype=torch.float32))\n",
    "pred_means, pred_vars = (\n",
    "    output.mean.float().detach(),\n",
    "    output.variance.float().detach(),\n",
    ")"
   ]
  },
  {
   "cell_type": "markdown",
   "metadata": {},
   "source": [
    "## 2. HistoryMatching\n",
    "\n",
    "Firstly, one can instantiate HistoryMatching without a simulator or an emulator. It can be used to calculate implausability for a given set of predictions."
   ]
  },
  {
   "cell_type": "code",
   "execution_count": 5,
   "metadata": {},
   "outputs": [],
   "source": [
    "# Define observed data with means and variances\n",
    "observations = {\"beta\": (0.25, 0.05), \"gamma\": (0.1, 0.01)}\n",
    "\n",
    "# Create history matcher\n",
    "hm = HistoryMatching(\n",
    "    observations=observations,\n",
    "    threshold=3.0\n",
    ")\n",
    "\n",
    "implausability = hm.calculate_implausibility(pred_means, pred_vars)\n"
   ]
  },
  {
   "cell_type": "markdown",
   "metadata": {},
   "source": [
    "Once implausability has been calculated, it can be used to identify NROY parameters."
   ]
  },
  {
   "cell_type": "code",
   "execution_count": 6,
   "metadata": {},
   "outputs": [
    {
     "data": {
      "text/plain": [
       "tensor([[0.3629, 0.0770],\n",
       "        [0.4219, 0.1672],\n",
       "        [0.1094, 0.1367],\n",
       "        [0.3309, 0.0128],\n",
       "        [0.2350, 0.1149]])"
      ]
     },
     "execution_count": 6,
     "metadata": {},
     "output_type": "execute_result"
    }
   ],
   "source": [
    "\n",
    "hm.get_nroy(implausability, x)"
   ]
  },
  {
   "cell_type": "markdown",
   "metadata": {},
   "source": [
    "## 3. Iterative HistoryMatchingWorkflow\n",
    "\n",
    "We also have a separate class that implements an iterative sample-predict-evaluate workflow where in each wave:\n",
    "- sample parameter values to test from the NROY space\n",
    "    - at the start, NROY is the entire parameter space\n",
    "    - use emulator to filter out implausible samples\n",
    "- make predictions for the sampled parameters using the simulator\n",
    "- refit the emulator using the simulated data"
   ]
  },
  {
   "cell_type": "code",
   "execution_count": 7,
   "metadata": {},
   "outputs": [
    {
     "name": "stderr",
     "output_type": "stream",
     "text": [
      "Running simulations: 100%|██████████| 20/20 [00:00<00:00, 982.17it/s]\n",
      "History Matching:  50%|█████     | 1/2 [00:00<00:00,  9.23wave/s, samples=20, failed=0, NROY=15, min_impl=0.04, max_impl=5.23]"
     ]
    },
    {
     "name": "stdout",
     "output_type": "stream",
     "text": [
      "Successfully completed 20/20 simulations (100.0%)\n"
     ]
    },
    {
     "name": "stderr",
     "output_type": "stream",
     "text": [
      "Running simulations: 100%|██████████| 18/18 [00:00<00:00, 890.91it/s]\n",
      "History Matching: 100%|██████████| 2/2 [00:00<00:00,  9.62wave/s, samples=18, failed=0, NROY=18, min_impl=0.00, max_impl=2.12]"
     ]
    },
    {
     "name": "stdout",
     "output_type": "stream",
     "text": [
      "Successfully completed 18/18 simulations (100.0%)\n"
     ]
    },
    {
     "name": "stderr",
     "output_type": "stream",
     "text": [
      "\n"
     ]
    },
    {
     "data": {
      "text/plain": [
       "(torch.Size([38, 2]), torch.Size([38, 2]))"
      ]
     },
     "execution_count": 7,
     "metadata": {},
     "output_type": "execute_result"
    }
   ],
   "source": [
    "hmw = HistoryMatchingWorkflow(\n",
    "    simulator=simulator,\n",
    "    emulator=gp_pytorch,\n",
    "    observations=observations,\n",
    "    threshold=3.0\n",
    ")\n",
    "\n",
    "hmw.run(n_samples=40)\n",
    "\n",
    "hmw.tested_params.shape, hmw.impl_scores.shape"
   ]
  },
  {
   "cell_type": "markdown",
   "metadata": {},
   "source": [
    "## 4. Integration with dashboard"
   ]
  },
  {
   "cell_type": "code",
   "execution_count": 8,
   "metadata": {},
   "outputs": [],
   "source": [
    "dashboard = HistoryMatchingDashboard(\n",
    "    samples=hmw.tested_params,\n",
    "    impl_scores=hmw.impl_scores,\n",
    "    param_names=simulator.param_names,  \n",
    "    output_names=simulator.output_names, \n",
    "    )"
   ]
  },
  {
   "cell_type": "code",
   "execution_count": 9,
   "metadata": {},
   "outputs": [
    {
     "data": {
      "application/vnd.jupyter.widget-view+json": {
       "model_id": "9cda2fbbc7994ae1a9953fd0e35af8dd",
       "version_major": 2,
       "version_minor": 0
      },
      "text/plain": [
       "HTML(value='<h2>History Matching Dashboard</h2>')"
      ]
     },
     "metadata": {},
     "output_type": "display_data"
    },
    {
     "data": {
      "application/vnd.jupyter.widget-view+json": {
       "model_id": "6e3a1759a38a4ac0b27565af3b6569ef",
       "version_major": 2,
       "version_minor": 0
      },
      "text/plain": [
       "VBox(children=(HBox(children=(Dropdown(description='Plot Type:', options=('Parameter vs Implausibility', 'Pair…"
      ]
     },
     "metadata": {},
     "output_type": "display_data"
    }
   ],
   "source": [
    "dashboard.display()"
   ]
  }
 ],
 "metadata": {
  "kernelspec": {
   "display_name": ".venv",
   "language": "python",
   "name": "python3"
  },
  "language_info": {
   "codemirror_mode": {
    "name": "ipython",
    "version": 3
   },
   "file_extension": ".py",
   "mimetype": "text/x-python",
   "name": "python",
   "nbconvert_exporter": "python",
   "pygments_lexer": "ipython3",
   "version": "3.12.4"
  }
 },
 "nbformat": 4,
 "nbformat_minor": 2
}
