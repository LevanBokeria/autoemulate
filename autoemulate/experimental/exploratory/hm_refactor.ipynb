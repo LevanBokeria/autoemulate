{
 "cells": [
  {
   "cell_type": "markdown",
   "metadata": {},
   "source": [
    "# Refactored workflow example\n",
    "\n",
    "This notebook runs the same history matching workflow as in the integration tutorial but uses the refactored history matcher that is currently in experimental as well as the GP emulator in experimental."
   ]
  },
  {
   "cell_type": "code",
   "execution_count": 1,
   "metadata": {},
   "outputs": [
    {
     "name": "stderr",
     "output_type": "stream",
     "text": [
      "/Users/rjersakova/Documents/Projects/autoemulate/autoemulate/history_matching_dashboard.py:953: SyntaxWarning: invalid escape sequence '\\m'\n",
      "  return f\"$\\mu_{{{base_name}}}$\"\n"
     ]
    }
   ],
   "source": [
    "import os\n",
    "import gpytorch\n",
    "import torch\n",
    "import pandas as pd\n",
    "\n",
    "# imports from main\n",
    "from autoemulate.emulators.gaussian_process import constant_mean, rbf\n",
    "from autoemulate.experimental_design import LatinHypercube\n",
    "from autoemulate.history_matching_dashboard import HistoryMatchingDashboard\n",
    "from autoemulate.simulations.naghavi_cardiac_ModularCirc import NaghaviSimulator, extract_parameter_ranges\n",
    "\n",
    "# imports from experimental\n",
    "from autoemulate.experimental.emulators.gaussian_process.exact import (\n",
    "    GaussianProcessExact,\n",
    ")\n",
    "from autoemulate.experimental.history_matching import HistoryMatching"
   ]
  },
  {
   "cell_type": "markdown",
   "metadata": {},
   "source": [
    "## Simulate\n",
    "\n",
    "Set up the Simulator and generate data OR read a data file if have run this previously."
   ]
  },
  {
   "cell_type": "code",
   "execution_count": 2,
   "metadata": {},
   "outputs": [],
   "source": [
    "parameters_range = extract_parameter_ranges(\n",
    "    '../../../docs/data/naghavi_model_parameters.json'\n",
    ")\n",
    "\n",
    "simulator = NaghaviSimulator(\n",
    "    parameters_range=parameters_range, \n",
    "    output_variables=['lv.P_i', 'lv.P_o'],  # Only the ones you're interested in\n",
    "    n_cycles=300, \n",
    "    dt=0.001,\n",
    ")"
   ]
  },
  {
   "cell_type": "code",
   "execution_count": 3,
   "metadata": {},
   "outputs": [],
   "source": [
    "inputs_path = 'parameters.csv'\n",
    "results_path = 'simulator_results.csv'\n",
    "\n",
    "# Check if the results file already exists\n",
    "if not os.path.exists(results_path):\n",
    "    N_samples = 100\n",
    "    lhd = LatinHypercube(list(parameters_range.values()))\n",
    "    sample_array = lhd.sample(N_samples)\n",
    "    sample_df = pd.DataFrame(sample_array, columns=parameters_range.keys())\n",
    "    \n",
    "    # Run batch simulations with the samples generated in Cell 1\n",
    "    results = simulator.run_batch_simulations(sample_df)\n",
    "    # Convert results to DataFrame for analysis\n",
    "    results_df = pd.DataFrame(results)\n",
    "    # Save the results to a CSV file\n",
    "    results_df.to_csv(results_path, index=False)\n",
    "    sample_df.to_csv(inputs_path, index=False)\n",
    "else:\n",
    "    results_df = pd.read_csv(results_path)\n",
    "    sample_df = pd.read_csv(inputs_path)\n",
    "    # have to run simulator once to populate simulator.output_names\n",
    "    _ = simulator.sample_forward(sample_df.iloc[0])\n",
    "\n",
    "y = torch.from_numpy(results_df.to_numpy()).float()\n",
    "x = torch.from_numpy(sample_df.to_numpy()).float()"
   ]
  },
  {
   "cell_type": "markdown",
   "metadata": {},
   "source": [
    "## Train a GP\n",
    "\n",
    "(this should be done with AutoEmulate obviously)"
   ]
  },
  {
   "cell_type": "code",
   "execution_count": 4,
   "metadata": {},
   "outputs": [],
   "source": [
    "gp = GaussianProcessExact(\n",
    "        x,\n",
    "        y,\n",
    "        gpytorch.likelihoods.MultitaskGaussianLikelihood,\n",
    "        constant_mean,\n",
    "        rbf,\n",
    "    )"
   ]
  },
  {
   "cell_type": "code",
   "execution_count": 5,
   "metadata": {},
   "outputs": [],
   "source": [
    "gp.fit(x, y)"
   ]
  },
  {
   "cell_type": "markdown",
   "metadata": {},
   "source": [
    "## History Matching"
   ]
  },
  {
   "cell_type": "code",
   "execution_count": 6,
   "metadata": {},
   "outputs": [],
   "source": [
    "# Define observed data with means and variances\n",
    "observations = {\n",
    "    'lv.P_i_min': (5.0, 0.1),   # Minimum of minimum LV pressure\n",
    "    'lv.P_i_max': (20.0, 0.1),   # Maximum of minimum LV pressure\n",
    "    'lv.P_i_mean': (10.0, 0.1),  # Mean of minimum LV pressure\n",
    "    'lv.P_i_range': (15.0, 0.5), # Range of minimum LV pressure\n",
    "    'lv.P_o_min': (1.0, 0.1),  # Minimum of maximum LV pressure\n",
    "    'lv.P_o_max': (13.0, 0.1),  # Maximum of maximum LV pressure\n",
    "    'lv.P_o_mean': (12.0, 0.1), # Mean of maximum LV pressure\n",
    "    'lv.P_o_range': (20.0, 0.5)  # Range of maximum LV pressure\n",
    "}\n",
    "\n",
    "# Create history matcher\n",
    "hm = HistoryMatching(\n",
    "    simulator=simulator,\n",
    "    observations=observations,\n",
    "    threshold=3.0\n",
    ")"
   ]
  },
  {
   "cell_type": "markdown",
   "metadata": {},
   "source": [
    "History Matching involves:\n",
    "- sampling parameters\n",
    "- making predictions for those parameterings\n",
    "- evaluating implausability of predictions\n",
    "- identifying which of the paraneters are not ruled out yet (NROY)"
   ]
  },
  {
   "cell_type": "code",
   "execution_count": 7,
   "metadata": {},
   "outputs": [
    {
     "data": {
      "text/plain": [
       "(tensor([[0.5718, 6.1953, 1.6543, 4.7003, 2.3911, 3.0088, 2.5649, 7.1212],\n",
       "         [0.5718, 6.1953, 1.6543, 4.7003, 2.3911, 3.0088, 2.5649, 7.1212],\n",
       "         [0.5718, 6.1953, 1.6543, 4.7003, 2.3911, 3.0088, 2.5649, 7.1212],\n",
       "         [0.5718, 6.1953, 1.6543, 4.7003, 2.3911, 3.0088, 2.5649, 7.1212],\n",
       "         [0.5718, 6.1953, 1.6543, 4.7003, 2.3911, 3.0088, 2.5649, 7.1212]]),\n",
       " tensor([], dtype=torch.int64))"
      ]
     },
     "execution_count": 7,
     "metadata": {},
     "output_type": "execute_result"
    }
   ],
   "source": [
    "x = hm.sample_params(5)\n",
    "pred_means, pred_vars, _ = hm.predict(x, emulator=gp)\n",
    "implausability = hm.calculate_implausibility(pred_means, pred_vars)\n",
    "nroy_indices = hm.get_nroy(implausability)\n",
    "\n",
    "implausability, nroy_indices"
   ]
  },
  {
   "cell_type": "markdown",
   "metadata": {},
   "source": [
    "We can execture an iterative sample-predict-evaluate procedure with `HM.run()`."
   ]
  },
  {
   "cell_type": "code",
   "execution_count": 9,
   "metadata": {},
   "outputs": [
    {
     "name": "stderr",
     "output_type": "stream",
     "text": [
      "History Matching: 100%|██████████| 20/20 [00:00<00:00, 38.32wave/s, samples=20, failed=0, NROY=0, min_impl=0.57, max_impl=7.12]\n"
     ]
    }
   ],
   "source": [
    "emulator = hm.run(\n",
    "    n_waves=20,\n",
    "    n_samples_per_wave=20,\n",
    "    emulator_predict=True,\n",
    "    emulator=gp,\n",
    ")"
   ]
  },
  {
   "cell_type": "code",
   "execution_count": 10,
   "metadata": {},
   "outputs": [
    {
     "data": {
      "text/plain": [
       "(torch.Size([400, 16]), torch.Size([400, 8]))"
      ]
     },
     "execution_count": 10,
     "metadata": {},
     "output_type": "execute_result"
    }
   ],
   "source": [
    "hm.tested_params.shape, hm.impl_scores.shape"
   ]
  },
  {
   "cell_type": "code",
   "execution_count": 11,
   "metadata": {},
   "outputs": [],
   "source": [
    "dashboard = HistoryMatchingDashboard(\n",
    "    samples=hm.tested_params,\n",
    "    impl_scores=hm.impl_scores,\n",
    "    param_names=simulator.param_names,  \n",
    "    output_names=simulator.output_names, \n",
    "    )"
   ]
  },
  {
   "cell_type": "code",
   "execution_count": 12,
   "metadata": {},
   "outputs": [
    {
     "data": {
      "application/vnd.jupyter.widget-view+json": {
       "model_id": "5f35561a2500414f85af22f4f261cf87",
       "version_major": 2,
       "version_minor": 0
      },
      "text/plain": [
       "HTML(value='<h2>History Matching Dashboard</h2>')"
      ]
     },
     "metadata": {},
     "output_type": "display_data"
    },
    {
     "data": {
      "application/vnd.jupyter.widget-view+json": {
       "model_id": "e53710dd33e14ff099411ae686a08672",
       "version_major": 2,
       "version_minor": 0
      },
      "text/plain": [
       "HTML(value='\\n            <div style=\"background-color: #f8f9fa; padding: 15px; border-radius: 5px; margin-bot…"
      ]
     },
     "metadata": {},
     "output_type": "display_data"
    },
    {
     "data": {
      "application/vnd.jupyter.widget-view+json": {
       "model_id": "fb8dfed7bb6d49cbaa5f382a0ec6f642",
       "version_major": 2,
       "version_minor": 0
      },
      "text/plain": [
       "VBox(children=(HBox(children=(Dropdown(description='Plot Type:', options=('Parameter vs Implausibility', 'Pair…"
      ]
     },
     "metadata": {},
     "output_type": "display_data"
    },
    {
     "data": {
      "image/png": "[encoded data removed]",
      "text/plain": [
       "<Figure size 1200x600 with 2 Axes>"
      ]
     },
     "metadata": {},
     "output_type": "display_data"
    }
   ],
   "source": [
    "dashboard.display()"
   ]
  }
 ],
 "metadata": {
  "kernelspec": {
   "display_name": ".venv",
   "language": "python",
   "name": "python3"
  },
  "language_info": {
   "codemirror_mode": {
    "name": "ipython",
    "version": 3
   },
   "file_extension": ".py",
   "mimetype": "text/x-python",
   "name": "python",
   "nbconvert_exporter": "python",
   "pygments_lexer": "ipython3",
   "version": "3.12.4"
  }
 },
 "nbformat": 4,
 "nbformat_minor": 2
}
