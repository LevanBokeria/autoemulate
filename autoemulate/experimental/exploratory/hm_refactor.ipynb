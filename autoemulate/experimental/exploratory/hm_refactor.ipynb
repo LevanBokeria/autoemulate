{
 "cells": [
  {
   "cell_type": "markdown",
   "metadata": {},
   "source": [
    "# Refactored HistoryMatching workflow example\n",
    "\n",
    "## 1. Set up"
   ]
  },
  {
   "cell_type": "code",
   "execution_count": 1,
   "metadata": {},
   "outputs": [],
   "source": [
    "import torch\n",
    "\n",
    "# imports from main\n",
    "from autoemulate.history_matching_dashboard import HistoryMatchingDashboard\n",
    "\n",
    "# imports from experimental\n",
    "from autoemulate.experimental.emulators.gaussian_process.exact import (\n",
    "    GaussianProcessExact,\n",
    ")\n",
    "from autoemulate.experimental.simulations.epidemic import Epidemic\n",
    "from autoemulate.experimental.history_matching import HistoryMatching, HistoryMatchingWorkflow"
   ]
  },
  {
   "cell_type": "markdown",
   "metadata": {},
   "source": [
    "### Simulate\n",
    "\n",
    "Set up a Simulator and generate data."
   ]
  },
  {
   "cell_type": "code",
   "execution_count": 2,
   "metadata": {},
   "outputs": [
    {
     "name": "stderr",
     "output_type": "stream",
     "text": [
      "Running simulations: 100%|██████████| 10/10 [00:00<00:00, 936.88it/s]"
     ]
    },
    {
     "name": "stdout",
     "output_type": "stream",
     "text": [
      "Successfully completed 10/10 simulations (100.0%)\n"
     ]
    },
    {
     "name": "stderr",
     "output_type": "stream",
     "text": [
      "\n"
     ]
    }
   ],
   "source": [
    "simulator = Epidemic()\n",
    "x = simulator.sample_inputs(10)\n",
    "y = simulator.forward_batch(x)"
   ]
  },
  {
   "cell_type": "markdown",
   "metadata": {},
   "source": [
    "### Train a GP\n",
    "\n",
    "(this should be done with AutoEmulate obviously)"
   ]
  },
  {
   "cell_type": "code",
   "execution_count": 3,
   "metadata": {},
   "outputs": [],
   "source": [
    "gp_pytorch = GaussianProcessExact(\n",
    "        x,\n",
    "        y,\n",
    "    )\n",
    "gp_pytorch.fit(x, y)"
   ]
  },
  {
   "cell_type": "markdown",
   "metadata": {},
   "source": [
    "### Generate predictions"
   ]
  },
  {
   "cell_type": "code",
   "execution_count": 4,
   "metadata": {},
   "outputs": [
    {
     "name": "stderr",
     "output_type": "stream",
     "text": [
      "/var/folders/bj/kdwy1bhj3h728lr5xdj19yd40000gr/T/ipykernel_92142/2686381175.py:2: UserWarning: To copy construct from a tensor, it is recommended to use sourceTensor.detach().clone() or sourceTensor.detach().clone().requires_grad_(True), rather than torch.tensor(sourceTensor).\n",
      "  output = gp_pytorch.predict(torch.tensor(x, dtype=torch.float32))\n"
     ]
    }
   ],
   "source": [
    "x = simulator.sample_inputs(10)\n",
    "output = gp_pytorch.predict(torch.tensor(x, dtype=torch.float32))\n",
    "pred_means, pred_vars = (\n",
    "    output.mean.float().detach(),\n",
    "    output.variance.float().detach(),\n",
    ")"
   ]
  },
  {
   "cell_type": "markdown",
   "metadata": {},
   "source": [
    "## 2. HistoryMatching\n",
    "\n",
    "Firstly, one can instantiate HistoryMatching without a simulator or an emulator. It can be used to calculate implausability for a given set of predictions."
   ]
  },
  {
   "cell_type": "code",
   "execution_count": 5,
   "metadata": {},
   "outputs": [],
   "source": [
    "# Define observed data with means and variances\n",
    "observations = {\"infection_rate\": (0.3, 0.05)}\n",
    "\n",
    "# Create history matcher\n",
    "hm = HistoryMatching(\n",
    "    observations=observations,\n",
    "    threshold=3.0\n",
    ")\n",
    "\n",
    "implausability = hm.calculate_implausibility(pred_means, pred_vars)\n"
   ]
  },
  {
   "cell_type": "markdown",
   "metadata": {},
   "source": [
    "Once implausability has been calculated, it can be used to identify NROY parameters."
   ]
  },
  {
   "cell_type": "code",
   "execution_count": 6,
   "metadata": {},
   "outputs": [
    {
     "data": {
      "text/plain": [
       "tensor([[0.3098, 0.0210],\n",
       "        [0.3967, 0.0327],\n",
       "        [0.3426, 0.1990],\n",
       "        [0.1747, 0.1769],\n",
       "        [0.2727, 0.1019],\n",
       "        [0.1099, 0.1406],\n",
       "        [0.2040, 0.1136],\n",
       "        [0.4347, 0.0725],\n",
       "        [0.2555, 0.1464],\n",
       "        [0.4632, 0.0485]])"
      ]
     },
     "execution_count": 6,
     "metadata": {},
     "output_type": "execute_result"
    }
   ],
   "source": [
    "\n",
    "hm.get_nroy(implausability, x)"
   ]
  },
  {
   "cell_type": "markdown",
   "metadata": {},
   "source": [
    "## 3. Iterative HistoryMatchingWorkflow\n",
    "\n",
    "We also have a separate class that implements an iterative sample-predict-evaluate workflow where in each wave:\n",
    "- sample parameter values to test from the NROY space\n",
    "    - at the start, NROY is the entire parameter space\n",
    "    - use emulator to filter out implausible samples\n",
    "- make predictions for the sampled parameters using the simulator\n",
    "- refit the emulator using the simulated data"
   ]
  },
  {
   "cell_type": "code",
   "execution_count": 9,
   "metadata": {},
   "outputs": [
    {
     "name": "stderr",
     "output_type": "stream",
     "text": [
      "Running simulations: 100%|██████████| 40/40 [00:00<00:00, 724.35it/s]"
     ]
    },
    {
     "name": "stdout",
     "output_type": "stream",
     "text": [
      "Successfully completed 40/40 simulations (100.0%)\n"
     ]
    },
    {
     "name": "stderr",
     "output_type": "stream",
     "text": [
      "\n"
     ]
    },
    {
     "ename": "RuntimeError",
     "evalue": "Sizes of tensors must match except in dimension 0. Expected size 1 but got size 2 for tensor number 1 in the list.",
     "output_type": "error",
     "traceback": [
      "\u001b[0;31m---------------------------------------------------------------------------\u001b[0m",
      "\u001b[0;31mRuntimeError\u001b[0m                              Traceback (most recent call last)",
      "Cell \u001b[0;32mIn[9], line 8\u001b[0m\n\u001b[1;32m      1\u001b[0m hmw \u001b[38;5;241m=\u001b[39m HistoryMatchingWorkflow(\n\u001b[1;32m      2\u001b[0m     simulator\u001b[38;5;241m=\u001b[39msimulator,\n\u001b[1;32m      3\u001b[0m     emulator\u001b[38;5;241m=\u001b[39mgp_pytorch,\n\u001b[1;32m      4\u001b[0m     observations\u001b[38;5;241m=\u001b[39mobservations,\n\u001b[1;32m      5\u001b[0m     threshold\u001b[38;5;241m=\u001b[39m\u001b[38;5;241m3.0\u001b[39m\n\u001b[1;32m      6\u001b[0m )\n\u001b[0;32m----> 8\u001b[0m \u001b[43mhmw\u001b[49m\u001b[38;5;241;43m.\u001b[39;49m\u001b[43mrun\u001b[49m\u001b[43m(\u001b[49m\u001b[43mn_samples\u001b[49m\u001b[38;5;241;43m=\u001b[39;49m\u001b[38;5;241;43m40\u001b[39;49m\u001b[43m)\u001b[49m\n",
      "File \u001b[0;32m~/Documents/Projects/autoemulate/autoemulate/experimental/history_matching.py:313\u001b[0m, in \u001b[0;36mHistoryMatchingWorkflow.run\u001b[0;34m(self, n_samples)\u001b[0m\n\u001b[1;32m    311\u001b[0m \u001b[38;5;66;03m# Refit emulator\u001b[39;00m\n\u001b[1;32m    312\u001b[0m \u001b[38;5;28mself\u001b[39m\u001b[38;5;241m.\u001b[39mys \u001b[38;5;241m=\u001b[39m torch\u001b[38;5;241m.\u001b[39mcat([\u001b[38;5;28mself\u001b[39m\u001b[38;5;241m.\u001b[39mys, pred_means], dim\u001b[38;5;241m=\u001b[39m\u001b[38;5;241m0\u001b[39m)\n\u001b[0;32m--> 313\u001b[0m \u001b[38;5;28mself\u001b[39m\u001b[38;5;241m.\u001b[39mtested_params \u001b[38;5;241m=\u001b[39m \u001b[43mtorch\u001b[49m\u001b[38;5;241;43m.\u001b[39;49m\u001b[43mcat\u001b[49m\u001b[43m(\u001b[49m\n\u001b[1;32m    314\u001b[0m \u001b[43m    \u001b[49m\u001b[43m[\u001b[49m\u001b[38;5;28;43mself\u001b[39;49m\u001b[38;5;241;43m.\u001b[39;49m\u001b[43mtested_params\u001b[49m\u001b[43m,\u001b[49m\u001b[43m \u001b[49m\u001b[43msuccessful_parameter_samples\u001b[49m\u001b[43m]\u001b[49m\u001b[43m,\u001b[49m\u001b[43m \u001b[49m\u001b[43mdim\u001b[49m\u001b[38;5;241;43m=\u001b[39;49m\u001b[38;5;241;43m0\u001b[39;49m\n\u001b[1;32m    315\u001b[0m \u001b[43m\u001b[49m\u001b[43m)\u001b[49m\n\u001b[1;32m    316\u001b[0m \u001b[38;5;28mself\u001b[39m\u001b[38;5;241m.\u001b[39memulator\u001b[38;5;241m.\u001b[39mfit(\u001b[38;5;28mself\u001b[39m\u001b[38;5;241m.\u001b[39mtested_params, \u001b[38;5;28mself\u001b[39m\u001b[38;5;241m.\u001b[39mys)\n",
      "\u001b[0;31mRuntimeError\u001b[0m: Sizes of tensors must match except in dimension 0. Expected size 1 but got size 2 for tensor number 1 in the list."
     ]
    }
   ],
   "source": [
    "hmw = HistoryMatchingWorkflow(\n",
    "    simulator=simulator,\n",
    "    emulator=gp_pytorch,\n",
    "    observations=observations,\n",
    "    threshold=3.0\n",
    ")\n",
    "\n",
    "impl_scores = hmw.run(n_samples=40)"
   ]
  },
  {
   "cell_type": "markdown",
   "metadata": {},
   "source": [
    "## 4. Integration with dashboard"
   ]
  },
  {
   "cell_type": "code",
   "execution_count": null,
   "metadata": {},
   "outputs": [],
   "source": [
    "dashboard = HistoryMatchingDashboard(\n",
    "    samples=hmw.tested_params,\n",
    "    impl_scores=impl_scores,\n",
    "    param_names=simulator.param_names,  \n",
    "    output_names=simulator.output_names, \n",
    "    )"
   ]
  },
  {
   "cell_type": "code",
   "execution_count": null,
   "metadata": {},
   "outputs": [
    {
     "data": {
      "application/vnd.jupyter.widget-view+json": {
       "model_id": "e9dc0dd0b3f1486b856804363b04cf31",
       "version_major": 2,
       "version_minor": 0
      },
      "text/plain": [
       "HTML(value='<h2>History Matching Dashboard</h2>')"
      ]
     },
     "metadata": {},
     "output_type": "display_data"
    },
    {
     "data": {
      "application/vnd.jupyter.widget-view+json": {
       "model_id": "cb3f9119258348948c9dc366ba19f02e",
       "version_major": 2,
       "version_minor": 0
      },
      "text/plain": [
       "VBox(children=(HBox(children=(Dropdown(description='Plot Type:', options=('Parameter vs Implausibility', 'Pair…"
      ]
     },
     "metadata": {},
     "output_type": "display_data"
    }
   ],
   "source": [
    "dashboard.display()"
   ]
  }
 ],
 "metadata": {
  "kernelspec": {
   "display_name": ".venv",
   "language": "python",
   "name": "python3"
  },
  "language_info": {
   "codemirror_mode": {
    "name": "ipython",
    "version": 3
   },
   "file_extension": ".py",
   "mimetype": "text/x-python",
   "name": "python",
   "nbconvert_exporter": "python",
   "pygments_lexer": "ipython3",
   "version": "3.12.4"
  }
 },
 "nbformat": 4,
 "nbformat_minor": 2
}
