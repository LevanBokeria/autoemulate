{
 "cells": [
  {
   "cell_type": "markdown",
   "metadata": {},
   "source": [
    "# Refactored HistoryMatching workflow example\n",
    "\n",
    "## 1. Set up"
   ]
  },
  {
   "cell_type": "code",
   "execution_count": 1,
   "metadata": {},
   "outputs": [],
   "source": [
    "import torch\n",
    "\n",
    "# imports from main\n",
    "from autoemulate.simulations.epidemic import simulate_epidemic\n",
    "from autoemulate.history_matching_dashboard import HistoryMatchingDashboard\n",
    "\n",
    "# imports from experimental\n",
    "from autoemulate.experimental.types import TensorLike\n",
    "from autoemulate.experimental.emulators.gaussian_process.exact import (\n",
    "    GaussianProcessExact,\n",
    ")\n",
    "from autoemulate.experimental.simulations.base import Simulator\n",
    "from autoemulate.experimental.history_matching import HistoryMatching"
   ]
  },
  {
   "cell_type": "markdown",
   "metadata": {},
   "source": [
    "### Simulate\n",
    "\n",
    "Set up a Simulator and generate data."
   ]
  },
  {
   "cell_type": "code",
   "execution_count": 2,
   "metadata": {},
   "outputs": [
    {
     "name": "stderr",
     "output_type": "stream",
     "text": [
      "Running simulations: 100%|██████████| 10/10 [00:00<00:00, 988.34it/s]"
     ]
    },
    {
     "name": "stdout",
     "output_type": "stream",
     "text": [
      "Successfully completed 10/10 simulations (100.0%)\n"
     ]
    },
    {
     "name": "stderr",
     "output_type": "stream",
     "text": [
      "\n"
     ]
    }
   ],
   "source": [
    "class EpidemicSimulator(Simulator):\n",
    "    \"\"\"\n",
    "    Simulator of infectious disease spread (SIR).\n",
    "    \"\"\"\n",
    "\n",
    "    def __init__(\n",
    "        self, \n",
    "        param_ranges={\"beta\": (0.1, 0.5), \"gamma\": (0.01, 0.2)}, \n",
    "        output_names = [\"distance\"]\n",
    "        ):\n",
    "        super().__init__(param_ranges, output_names)\n",
    "\n",
    "    def _forward(self, x: TensorLike) -> TensorLike:\n",
    "        \"\"\"\n",
    "        Parameters\n",
    "        ----------\n",
    "        x : TensorLike\n",
    "            input parameter values to simulate [beta, gamma]:\n",
    "            - `beta`: the transimission rate per day\n",
    "            - `gamma`: the recovery rate per day\n",
    "\n",
    "        Returns\n",
    "        -------\n",
    "        infection : np.ndarray\n",
    "            Peak infection rate.\n",
    "        \"\"\"\n",
    "        y = simulate_epidemic(x.numpy()[0])\n",
    "        return torch.tensor([y]).view(-1, 1)\n",
    "    \n",
    "simulator = EpidemicSimulator()\n",
    "x = simulator.sample_inputs(10)\n",
    "y = simulator.forward_batch(x)"
   ]
  },
  {
   "cell_type": "markdown",
   "metadata": {},
   "source": [
    "### Train a GP\n",
    "\n",
    "(this should be done with AutoEmulate obviously)"
   ]
  },
  {
   "cell_type": "code",
   "execution_count": 3,
   "metadata": {},
   "outputs": [],
   "source": [
    "gp_pytorch = GaussianProcessExact(\n",
    "        x,\n",
    "        y,\n",
    "    )\n",
    "gp_pytorch.fit(x, y)"
   ]
  },
  {
   "cell_type": "markdown",
   "metadata": {},
   "source": [
    "### Generate predictions"
   ]
  },
  {
   "cell_type": "code",
   "execution_count": 4,
   "metadata": {},
   "outputs": [
    {
     "name": "stderr",
     "output_type": "stream",
     "text": [
      "/var/folders/bj/kdwy1bhj3h728lr5xdj19yd40000gr/T/ipykernel_29677/1935492425.py:2: UserWarning: To copy construct from a tensor, it is recommended to use sourceTensor.clone().detach() or sourceTensor.clone().detach().requires_grad_(True), rather than torch.tensor(sourceTensor).\n",
      "  output = gp_pytorch.predict(torch.tensor(x, dtype=torch.float32))\n"
     ]
    }
   ],
   "source": [
    "x = simulator.sample_inputs(5)\n",
    "output = gp_pytorch.predict(torch.tensor(x, dtype=torch.float32))\n",
    "pred_means, pred_vars = (\n",
    "    output.mean.float().detach(),\n",
    "    output.variance.float().detach(),\n",
    ")"
   ]
  },
  {
   "cell_type": "markdown",
   "metadata": {},
   "source": [
    "## 2. History Matching\n",
    "\n",
    "Firstly, one can instantiate HistoryMatching without a simulator or an emulator. It can be used to calculate implausability for a given set of predictions."
   ]
  },
  {
   "cell_type": "code",
   "execution_count": 5,
   "metadata": {},
   "outputs": [],
   "source": [
    "# Define observed data with means and variances\n",
    "observations = {\"beta\": (0.25, 0.05), \"gamma\": (0.1, 0.01)}\n",
    "\n",
    "# Create history matcher\n",
    "hm = HistoryMatching(\n",
    "    observations=observations,\n",
    "    threshold=3.0\n",
    ")\n",
    "\n",
    "implausability = hm.calculate_implausibility(pred_means, pred_vars)\n"
   ]
  },
  {
   "cell_type": "markdown",
   "metadata": {},
   "source": [
    "Once implausability has been calculated, it can be used to identify NROY parameters."
   ]
  },
  {
   "cell_type": "code",
   "execution_count": 8,
   "metadata": {},
   "outputs": [
    {
     "data": {
      "text/plain": [
       "tensor([[0.4235, 0.0585],\n",
       "        [0.2786, 0.1565],\n",
       "        [0.1068, 0.0143],\n",
       "        [0.2131, 0.1845],\n",
       "        [0.3751, 0.0925]])"
      ]
     },
     "execution_count": 8,
     "metadata": {},
     "output_type": "execute_result"
    }
   ],
   "source": [
    "\n",
    "hm.get_nroy(implausability, x)"
   ]
  },
  {
   "cell_type": "markdown",
   "metadata": {},
   "source": [
    "## 3. Iterative HistoryMatching\n",
    "\n",
    "We can execute an iterative sample-predict-evaluate procedure with `hm.run()`. In each wave:\n",
    "- sample parameter values to test from the NROY space\n",
    "    - at the start, NROY is the entire parameter space\n",
    "    - use emulator to filter out implausible samples\n",
    "- make predictions for the sampled parameters using the simulator\n",
    "- refit the emulator using the simulated data"
   ]
  },
  {
   "cell_type": "code",
   "execution_count": 9,
   "metadata": {},
   "outputs": [
    {
     "name": "stderr",
     "output_type": "stream",
     "text": [
      "Running simulations: 100%|██████████| 20/20 [00:00<00:00, 766.81it/s]\n",
      "History Matching:  50%|█████     | 1/2 [00:00<00:00,  7.90wave/s, samples=20, failed=0, NROY=17, min_impl=0.02, max_impl=5.28]"
     ]
    },
    {
     "name": "stdout",
     "output_type": "stream",
     "text": [
      "Successfully completed 20/20 simulations (100.0%)\n"
     ]
    },
    {
     "name": "stderr",
     "output_type": "stream",
     "text": [
      "Running simulations: 100%|██████████| 15/15 [00:00<00:00, 840.47it/s]\n",
      "History Matching: 100%|██████████| 2/2 [00:00<00:00,  9.62wave/s, samples=15, failed=0, NROY=15, min_impl=0.03, max_impl=2.08]\n"
     ]
    },
    {
     "name": "stdout",
     "output_type": "stream",
     "text": [
      "Successfully completed 15/15 simulations (100.0%)\n"
     ]
    }
   ],
   "source": [
    "emulator = hm.run(\n",
    "    n_waves=2,\n",
    "    n_samples_per_wave=20,\n",
    "    simulator=simulator,\n",
    "    emulator=gp_pytorch,\n",
    ")"
   ]
  },
  {
   "cell_type": "code",
   "execution_count": 10,
   "metadata": {},
   "outputs": [
    {
     "data": {
      "text/plain": [
       "(torch.Size([35, 2]), torch.Size([35, 2]))"
      ]
     },
     "execution_count": 10,
     "metadata": {},
     "output_type": "execute_result"
    }
   ],
   "source": [
    "hm.tested_params.shape, hm.impl_scores.shape"
   ]
  },
  {
   "cell_type": "markdown",
   "metadata": {},
   "source": [
    "## 4. Integration with dashboard"
   ]
  },
  {
   "cell_type": "code",
   "execution_count": 11,
   "metadata": {},
   "outputs": [],
   "source": [
    "dashboard = HistoryMatchingDashboard(\n",
    "    samples=hm.tested_params,\n",
    "    impl_scores=hm.impl_scores,\n",
    "    param_names=simulator.param_names,  \n",
    "    output_names=simulator.output_names, \n",
    "    )"
   ]
  },
  {
   "cell_type": "code",
   "execution_count": 12,
   "metadata": {},
   "outputs": [
    {
     "data": {
      "application/vnd.jupyter.widget-view+json": {
       "model_id": "5aec6264e014468ea962963b2e5201d7",
       "version_major": 2,
       "version_minor": 0
      },
      "text/plain": [
       "HTML(value='<h2>History Matching Dashboard</h2>')"
      ]
     },
     "metadata": {},
     "output_type": "display_data"
    },
    {
     "data": {
      "application/vnd.jupyter.widget-view+json": {
       "model_id": "8017dcf7365844b291dfa5124b98547d",
       "version_major": 2,
       "version_minor": 0
      },
      "text/plain": [
       "VBox(children=(HBox(children=(Dropdown(description='Plot Type:', options=('Parameter vs Implausibility', 'Pair…"
      ]
     },
     "metadata": {},
     "output_type": "display_data"
    }
   ],
   "source": [
    "dashboard.display()"
   ]
  }
 ],
 "metadata": {
  "kernelspec": {
   "display_name": ".venv",
   "language": "python",
   "name": "python3"
  },
  "language_info": {
   "codemirror_mode": {
    "name": "ipython",
    "version": 3
   },
   "file_extension": ".py",
   "mimetype": "text/x-python",
   "name": "python",
   "nbconvert_exporter": "python",
   "pygments_lexer": "ipython3",
   "version": "3.12.4"
  }
 },
 "nbformat": 4,
 "nbformat_minor": 2
}
