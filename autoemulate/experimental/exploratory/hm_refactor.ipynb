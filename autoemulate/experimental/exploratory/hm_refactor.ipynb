{
 "cells": [
  {
   "cell_type": "markdown",
   "metadata": {},
   "source": [
    "# Refactored HistoryMatching workflow example\n",
    "\n",
    "## 1. Set up"
   ]
  },
  {
   "cell_type": "code",
   "execution_count": 1,
   "metadata": {},
   "outputs": [],
   "source": [
    "import torch\n",
    "\n",
    "# imports from main\n",
    "from autoemulate.history_matching_dashboard import HistoryMatchingDashboard\n",
    "\n",
    "# imports from experimental\n",
    "from autoemulate.experimental.types import TensorLike\n",
    "from autoemulate.experimental.emulators.gaussian_process.exact import (\n",
    "    GaussianProcessExact,\n",
    ")\n",
    "from autoemulate.experimental.simulations.epidemic import Epidemic\n",
    "from autoemulate.experimental.history_matching import HistoryMatching, HistoryMatchingWorkflow"
   ]
  },
  {
   "cell_type": "markdown",
   "metadata": {},
   "source": [
    "### Simulate\n",
    "\n",
    "Set up a Simulator and generate data."
   ]
  },
  {
   "cell_type": "code",
   "execution_count": 2,
   "metadata": {},
   "outputs": [
    {
     "name": "stderr",
     "output_type": "stream",
     "text": [
      "Running simulations: 100%|██████████| 10/10 [00:00<00:00, 939.31it/s]"
     ]
    },
    {
     "name": "stdout",
     "output_type": "stream",
     "text": [
      "Successfully completed 10/10 simulations (100.0%)\n"
     ]
    },
    {
     "name": "stderr",
     "output_type": "stream",
     "text": [
      "\n"
     ]
    }
   ],
   "source": [
    "simulator = Epidemic()\n",
    "x = simulator.sample_inputs(10)\n",
    "y = simulator.forward_batch(x)"
   ]
  },
  {
   "cell_type": "markdown",
   "metadata": {},
   "source": [
    "### Train a GP\n",
    "\n",
    "(this should be done with AutoEmulate obviously)"
   ]
  },
  {
   "cell_type": "code",
   "execution_count": 3,
   "metadata": {},
   "outputs": [],
   "source": [
    "gp_pytorch = GaussianProcessExact(\n",
    "        x,\n",
    "        y,\n",
    "    )\n",
    "gp_pytorch.fit(x, y)"
   ]
  },
  {
   "cell_type": "markdown",
   "metadata": {},
   "source": [
    "### Generate predictions"
   ]
  },
  {
   "cell_type": "code",
   "execution_count": 4,
   "metadata": {},
   "outputs": [
    {
     "name": "stderr",
     "output_type": "stream",
     "text": [
      "/var/folders/bj/kdwy1bhj3h728lr5xdj19yd40000gr/T/ipykernel_62222/1935492425.py:2: UserWarning: To copy construct from a tensor, it is recommended to use sourceTensor.detach().clone() or sourceTensor.detach().clone().requires_grad_(True), rather than torch.tensor(sourceTensor).\n",
      "  output = gp_pytorch.predict(torch.tensor(x, dtype=torch.float32))\n"
     ]
    }
   ],
   "source": [
    "x = simulator.sample_inputs(5)\n",
    "output = gp_pytorch.predict(torch.tensor(x, dtype=torch.float32))\n",
    "pred_means, pred_vars = (\n",
    "    output.mean.float().detach(),\n",
    "    output.variance.float().detach(),\n",
    ")"
   ]
  },
  {
   "cell_type": "markdown",
   "metadata": {},
   "source": [
    "## 2. HistoryMatching\n",
    "\n",
    "Firstly, one can instantiate HistoryMatching without a simulator or an emulator. It can be used to calculate implausability for a given set of predictions."
   ]
  },
  {
   "cell_type": "code",
   "execution_count": 5,
   "metadata": {},
   "outputs": [],
   "source": [
    "# Define observed data with means and variances\n",
    "observations = {\"beta\": (0.25, 0.05), \"gamma\": (0.1, 0.01)}\n",
    "\n",
    "# Create history matcher\n",
    "hm = HistoryMatching(\n",
    "    observations=observations,\n",
    "    threshold=3.0\n",
    ")\n",
    "\n",
    "implausability = hm.calculate_implausibility(pred_means, pred_vars)\n"
   ]
  },
  {
   "cell_type": "markdown",
   "metadata": {},
   "source": [
    "Once implausability has been calculated, it can be used to identify NROY parameters."
   ]
  },
  {
   "cell_type": "code",
   "execution_count": 6,
   "metadata": {},
   "outputs": [
    {
     "data": {
      "text/plain": [
       "tensor([[0.3705, 0.0137],\n",
       "        [0.2365, 0.1954],\n",
       "        [0.1280, 0.1132],\n",
       "        [0.2600, 0.0635],\n",
       "        [0.4239, 0.1447]])"
      ]
     },
     "execution_count": 6,
     "metadata": {},
     "output_type": "execute_result"
    }
   ],
   "source": [
    "\n",
    "hm.get_nroy(implausability, x)"
   ]
  },
  {
   "cell_type": "markdown",
   "metadata": {},
   "source": [
    "## 3. Iterative HistoryMatchingWorkflow\n",
    "\n",
    "We also have a separate class that implements an iterative sample-predict-evaluate workflow where in each wave:\n",
    "- sample parameter values to test from the NROY space\n",
    "    - at the start, NROY is the entire parameter space\n",
    "    - use emulator to filter out implausible samples\n",
    "- make predictions for the sampled parameters using the simulator\n",
    "- refit the emulator using the simulated data"
   ]
  },
  {
   "cell_type": "code",
   "execution_count": 7,
   "metadata": {},
   "outputs": [],
   "source": [
    "hmw = HistoryMatchingWorkflow(\n",
    "    observations=observations,\n",
    "    threshold=3.0\n",
    ")"
   ]
  },
  {
   "cell_type": "code",
   "execution_count": 8,
   "metadata": {},
   "outputs": [
    {
     "name": "stderr",
     "output_type": "stream",
     "text": [
      "Running simulations: 100%|██████████| 20/20 [00:00<00:00, 1251.73it/s]\n",
      "History Matching:   0%|          | 0/2 [00:00<?, ?wave/s, samples=20, failed=0, NROY=14, min_impl=0.06, max_impl=4.60]"
     ]
    },
    {
     "name": "stdout",
     "output_type": "stream",
     "text": [
      "Successfully completed 20/20 simulations (100.0%)\n"
     ]
    },
    {
     "name": "stderr",
     "output_type": "stream",
     "text": [
      "Running simulations: 100%|██████████| 17/17 [00:00<00:00, 924.97it/s]\n",
      "History Matching: 100%|██████████| 2/2 [00:00<00:00, 11.74wave/s, samples=17, failed=0, NROY=17, min_impl=0.02, max_impl=2.12]"
     ]
    },
    {
     "name": "stdout",
     "output_type": "stream",
     "text": [
      "Successfully completed 17/17 simulations (100.0%)\n"
     ]
    },
    {
     "name": "stderr",
     "output_type": "stream",
     "text": [
      "\n"
     ]
    }
   ],
   "source": [
    "emulator = hmw.run(\n",
    "    n_waves=2,\n",
    "    n_samples_per_wave=20,\n",
    "    simulator=simulator,\n",
    "    emulator=gp_pytorch,\n",
    ")"
   ]
  },
  {
   "cell_type": "code",
   "execution_count": 9,
   "metadata": {},
   "outputs": [
    {
     "data": {
      "text/plain": [
       "(torch.Size([37, 2]), torch.Size([37, 2]))"
      ]
     },
     "execution_count": 9,
     "metadata": {},
     "output_type": "execute_result"
    }
   ],
   "source": [
    "hmw.tested_params.shape, hmw.impl_scores.shape"
   ]
  },
  {
   "cell_type": "markdown",
   "metadata": {},
   "source": [
    "## 4. Integration with dashboard"
   ]
  },
  {
   "cell_type": "code",
   "execution_count": 10,
   "metadata": {},
   "outputs": [],
   "source": [
    "dashboard = HistoryMatchingDashboard(\n",
    "    samples=hmw.tested_params,\n",
    "    impl_scores=hmw.impl_scores,\n",
    "    param_names=simulator.param_names,  \n",
    "    output_names=simulator.output_names, \n",
    "    )"
   ]
  },
  {
   "cell_type": "code",
   "execution_count": 11,
   "metadata": {},
   "outputs": [
    {
     "data": {
      "application/vnd.jupyter.widget-view+json": {
       "model_id": "55762e342a1f4875890b0ba349dac24c",
       "version_major": 2,
       "version_minor": 0
      },
      "text/plain": [
       "HTML(value='<h2>History Matching Dashboard</h2>')"
      ]
     },
     "metadata": {},
     "output_type": "display_data"
    },
    {
     "data": {
      "application/vnd.jupyter.widget-view+json": {
       "model_id": "dd688aae6840437697d15482c2978c56",
       "version_major": 2,
       "version_minor": 0
      },
      "text/plain": [
       "VBox(children=(HBox(children=(Dropdown(description='Plot Type:', options=('Parameter vs Implausibility', 'Pair…"
      ]
     },
     "metadata": {},
     "output_type": "display_data"
    }
   ],
   "source": [
    "dashboard.display()"
   ]
  }
 ],
 "metadata": {
  "kernelspec": {
   "display_name": ".venv",
   "language": "python",
   "name": "python3"
  },
  "language_info": {
   "codemirror_mode": {
    "name": "ipython",
    "version": 3
   },
   "file_extension": ".py",
   "mimetype": "text/x-python",
   "name": "python",
   "nbconvert_exporter": "python",
   "pygments_lexer": "ipython3",
   "version": "3.12.4"
  }
 },
 "nbformat": 4,
 "nbformat_minor": 2
}
