{
 "cells": [
  {
   "cell_type": "markdown",
   "metadata": {},
   "source": [
    "# Quickstart\n"
   ]
  },
  {
   "cell_type": "markdown",
   "metadata": {},
   "source": [
    "`AutoEmulate`'s goal is to make it easy to create an emulator for your simulation. Here's the basic workflow:\n"
   ]
  },
  {
   "cell_type": "code",
   "execution_count": 1,
   "metadata": {},
   "outputs": [],
   "source": [
    "from autoemulate.experimental.compare import AutoEmulate\n",
    "from autoemulate.experimental.emulators import *\n",
    "\n",
    "from autoemulate.experimental.simulations.projectile import Projectile\n",
    "\n",
    "import warnings\n",
    "warnings.filterwarnings(\"ignore\")"
   ]
  },
  {
   "cell_type": "markdown",
   "metadata": {},
   "source": [
    "## Design of Experiments\n",
    "\n",
    "Before we build an emulator or surrogate model, we need to get a set of input/output pairs from the simulation. This is called the **Design of Experiments (DoE)** and is currently not a key part of `AutoEmulate`, as this step is tricky to automate and will run on more complex compute infrastructure for expensive simulations. There are lots of sampling techniques, but here we are using Latin Hypercube Sampling.\n",
    "\n",
    "Below, `simulate_projectile` is a simulation for a projectil motion with drag (see [here](https://mogp-emulator.readthedocs.io/en/latest/intro/tutorial.html) for details). It takes two inputs, the drag coefficient (on a log scale) and the velocity and outputs the distance the projectile travelled. We sample 100 sets of inputs `X` using a Latin Hypercube Sampler and run the simulator for those inputs to get the outputs `y`.\n"
   ]
  },
  {
   "cell_type": "code",
   "execution_count": 2,
   "metadata": {},
   "outputs": [
    {
     "name": "stderr",
     "output_type": "stream",
     "text": [
      "Running simulations: 100%|██████████| 500/500 [00:00<00:00, 1051.34it/s]"
     ]
    },
    {
     "name": "stdout",
     "output_type": "stream",
     "text": [
      "Successfully completed 500/500 simulations (100.0%)\n"
     ]
    },
    {
     "name": "stderr",
     "output_type": "stream",
     "text": [
      "\n"
     ]
    },
    {
     "data": {
      "text/plain": [
       "(torch.Size([500, 2]), torch.Size([500, 1]))"
      ]
     },
     "execution_count": 2,
     "metadata": {},
     "output_type": "execute_result"
    }
   ],
   "source": [
    "projectile = Projectile()\n",
    "\n",
    "# sample from a simulation\n",
    "n_samples = 500\n",
    "x = projectile.sample_inputs(n_samples).float()\n",
    "y = projectile.forward_batch(x).float()\n",
    "\n",
    "x.shape, y.shape"
   ]
  },
  {
   "cell_type": "markdown",
   "metadata": {},
   "source": [
    "## Comparing emulators\n",
    "\n",
    "This is the core of `AutoEmulate`. With a set of inputs / outputs, we can run a full machine learning pipeline, including data processing, model fitting, model selection and potentially hyperparameter optimisation in just a few lines of code. First, we initialise an `AutoEmulate` object. Then, we run `setup(X, y)`, providing the simulation inputs and outputs. Lastly, `compare()` will fit a range of different models to the data and evaluate them using cross-validation, returning the best emulator.\n"
   ]
  },
  {
   "cell_type": "code",
   "execution_count": 3,
   "metadata": {},
   "outputs": [
    {
     "name": "stderr",
     "output_type": "stream",
     "text": [
      "100%|██████████| 50/50 [00:15<00:00,  3.15it/s]\n",
      "100%|██████████| 50/50 [00:19<00:00,  2.61it/s]\n",
      "100%|██████████| 50/50 [00:01<00:00, 37.38it/s]\n",
      "100%|██████████| 50/50 [00:00<00:00, 91.19it/s] \n",
      "100%|██████████| 50/50 [00:00<00:00, 68.84it/s]\n",
      "100%|██████████| 50/50 [00:07<00:00,  6.26it/s]\n",
      "100%|██████████| 50/50 [00:45<00:00,  1.10it/s]\n",
      "100%|██████████| 50/50 [03:00<00:00,  3.62s/it]\n",
      "100%|██████████| 50/50 [00:51<00:00,  1.03s/it]\n"
     ]
    }
   ],
   "source": [
    "# compare emulator models\n",
    "ae = AutoEmulate(\n",
    "    x,\n",
    "    y,\n",
    "    n_iter=50,\n",
    "    # models=[MLP, GaussianProcessExact, RandomForest, RadialBasisFunctions],\n",
    "    n_splits=2,\n",
    "    shuffle=True,\n",
    ")"
   ]
  },
  {
   "cell_type": "code",
   "execution_count": 4,
   "metadata": {},
   "outputs": [
    {
     "data": {
      "application/vnd.microsoft.datawrangler.viewer.v0+json": {
       "columns": [
        {
         "name": "index",
         "rawType": "int64",
         "type": "integer"
        },
        {
         "name": "id",
         "rawType": "object",
         "type": "string"
        },
        {
         "name": "model",
         "rawType": "object",
         "type": "unknown"
        },
        {
         "name": "x_transforms",
         "rawType": "object",
         "type": "unknown"
        },
        {
         "name": "y_transforms",
         "rawType": "object",
         "type": "unknown"
        },
        {
         "name": "rmse_score",
         "rawType": "float64",
         "type": "float"
        },
        {
         "name": "r2_score",
         "rawType": "float64",
         "type": "float"
        }
       ],
       "ref": "9effe7d9-c6ae-4b0e-8290-a00ecd833cbe",
       "rows": [
        [
         "4",
         "RadialBasisFunctions5",
         "<autoemulate.experimental.emulators.transformed.base.TransformedEmulator object at 0x175372fc0>",
         "[StandardizeTransform()]",
         "[StandardizeTransform()]",
         "113849.703125",
         "0.9982565641403198"
        ],
        [
         "3",
         "SupportVectorMachine4",
         "<autoemulate.experimental.emulators.transformed.base.TransformedEmulator object at 0x3273773b0>",
         "[StandardizeTransform()]",
         "[StandardizeTransform()]",
         "861738.0625",
         "0.9868333339691162"
        ],
        [
         "6",
         "MLP7",
         "<autoemulate.experimental.emulators.transformed.base.TransformedEmulator object at 0x3108c4230>",
         "[StandardizeTransform()]",
         "[StandardizeTransform()]",
         "1905224.625",
         "0.9648208618164062"
        ],
        [
         "8",
         "EnsembleMLPDropout9",
         "<autoemulate.experimental.emulators.transformed.base.TransformedEmulator object at 0x31feeaae0>",
         "[StandardizeTransform()]",
         "[StandardizeTransform()]",
         "2176334.25",
         "0.9547641277313232"
        ],
        [
         "0",
         "GaussianProcessExact1",
         "<autoemulate.experimental.emulators.transformed.base.TransformedEmulator object at 0x10496c140>",
         "[StandardizeTransform()]",
         "[StandardizeTransform()]",
         "3493427.25",
         "0.9321480989456177"
        ],
        [
         "5",
         "RandomForest6",
         "<autoemulate.experimental.emulators.transformed.base.TransformedEmulator object at 0x327376a50>",
         "[StandardizeTransform()]",
         "[StandardizeTransform()]",
         "4254566.5",
         "0.907670259475708"
        ],
        [
         "1",
         "GaussianProcessExactCorrelated2",
         "<autoemulate.experimental.emulators.transformed.base.TransformedEmulator object at 0x320154fb0>",
         "[StandardizeTransform()]",
         "[StandardizeTransform()]",
         "4819937.5",
         "0.9010632038116455"
        ],
        [
         "7",
         "EnsembleMLP8",
         "<autoemulate.experimental.emulators.transformed.base.TransformedEmulator object at 0x327322870>",
         "[StandardizeTransform()]",
         "[StandardizeTransform()]",
         "15898972.0",
         "0.026332855224609375"
        ],
        [
         "2",
         "LightGBM3",
         "<autoemulate.experimental.emulators.transformed.base.TransformedEmulator object at 0x327322180>",
         "[StandardizeTransform()]",
         "[StandardizeTransform()]",
         "26759360.0",
         "-1.9358689785003662"
        ]
       ],
       "shape": {
        "columns": 6,
        "rows": 9
       }
      },
      "text/html": [
       "<div>\n",
       "<style scoped>\n",
       "    .dataframe tbody tr th:only-of-type {\n",
       "        vertical-align: middle;\n",
       "    }\n",
       "\n",
       "    .dataframe tbody tr th {\n",
       "        vertical-align: top;\n",
       "    }\n",
       "\n",
       "    .dataframe thead th {\n",
       "        text-align: right;\n",
       "    }\n",
       "</style>\n",
       "<table border=\"1\" class=\"dataframe\">\n",
       "  <thead>\n",
       "    <tr style=\"text-align: right;\">\n",
       "      <th></th>\n",
       "      <th>id</th>\n",
       "      <th>model</th>\n",
       "      <th>x_transforms</th>\n",
       "      <th>y_transforms</th>\n",
       "      <th>rmse_score</th>\n",
       "      <th>r2_score</th>\n",
       "    </tr>\n",
       "  </thead>\n",
       "  <tbody>\n",
       "    <tr>\n",
       "      <th>4</th>\n",
       "      <td>RadialBasisFunctions5</td>\n",
       "      <td>&lt;autoemulate.experimental.emulators.transforme...</td>\n",
       "      <td>[StandardizeTransform()]</td>\n",
       "      <td>[StandardizeTransform()]</td>\n",
       "      <td>1.138497e+05</td>\n",
       "      <td>0.998257</td>\n",
       "    </tr>\n",
       "    <tr>\n",
       "      <th>3</th>\n",
       "      <td>SupportVectorMachine4</td>\n",
       "      <td>&lt;autoemulate.experimental.emulators.transforme...</td>\n",
       "      <td>[StandardizeTransform()]</td>\n",
       "      <td>[StandardizeTransform()]</td>\n",
       "      <td>8.617381e+05</td>\n",
       "      <td>0.986833</td>\n",
       "    </tr>\n",
       "    <tr>\n",
       "      <th>6</th>\n",
       "      <td>MLP7</td>\n",
       "      <td>&lt;autoemulate.experimental.emulators.transforme...</td>\n",
       "      <td>[StandardizeTransform()]</td>\n",
       "      <td>[StandardizeTransform()]</td>\n",
       "      <td>1.905225e+06</td>\n",
       "      <td>0.964821</td>\n",
       "    </tr>\n",
       "    <tr>\n",
       "      <th>8</th>\n",
       "      <td>EnsembleMLPDropout9</td>\n",
       "      <td>&lt;autoemulate.experimental.emulators.transforme...</td>\n",
       "      <td>[StandardizeTransform()]</td>\n",
       "      <td>[StandardizeTransform()]</td>\n",
       "      <td>2.176334e+06</td>\n",
       "      <td>0.954764</td>\n",
       "    </tr>\n",
       "    <tr>\n",
       "      <th>0</th>\n",
       "      <td>GaussianProcessExact1</td>\n",
       "      <td>&lt;autoemulate.experimental.emulators.transforme...</td>\n",
       "      <td>[StandardizeTransform()]</td>\n",
       "      <td>[StandardizeTransform()]</td>\n",
       "      <td>3.493427e+06</td>\n",
       "      <td>0.932148</td>\n",
       "    </tr>\n",
       "    <tr>\n",
       "      <th>5</th>\n",
       "      <td>RandomForest6</td>\n",
       "      <td>&lt;autoemulate.experimental.emulators.transforme...</td>\n",
       "      <td>[StandardizeTransform()]</td>\n",
       "      <td>[StandardizeTransform()]</td>\n",
       "      <td>4.254566e+06</td>\n",
       "      <td>0.907670</td>\n",
       "    </tr>\n",
       "    <tr>\n",
       "      <th>1</th>\n",
       "      <td>GaussianProcessExactCorrelated2</td>\n",
       "      <td>&lt;autoemulate.experimental.emulators.transforme...</td>\n",
       "      <td>[StandardizeTransform()]</td>\n",
       "      <td>[StandardizeTransform()]</td>\n",
       "      <td>4.819938e+06</td>\n",
       "      <td>0.901063</td>\n",
       "    </tr>\n",
       "    <tr>\n",
       "      <th>7</th>\n",
       "      <td>EnsembleMLP8</td>\n",
       "      <td>&lt;autoemulate.experimental.emulators.transforme...</td>\n",
       "      <td>[StandardizeTransform()]</td>\n",
       "      <td>[StandardizeTransform()]</td>\n",
       "      <td>1.589897e+07</td>\n",
       "      <td>0.026333</td>\n",
       "    </tr>\n",
       "    <tr>\n",
       "      <th>2</th>\n",
       "      <td>LightGBM3</td>\n",
       "      <td>&lt;autoemulate.experimental.emulators.transforme...</td>\n",
       "      <td>[StandardizeTransform()]</td>\n",
       "      <td>[StandardizeTransform()]</td>\n",
       "      <td>2.675936e+07</td>\n",
       "      <td>-1.935869</td>\n",
       "    </tr>\n",
       "  </tbody>\n",
       "</table>\n",
       "</div>"
      ],
      "text/plain": [
       "                                id  \\\n",
       "4            RadialBasisFunctions5   \n",
       "3            SupportVectorMachine4   \n",
       "6                             MLP7   \n",
       "8              EnsembleMLPDropout9   \n",
       "0            GaussianProcessExact1   \n",
       "5                    RandomForest6   \n",
       "1  GaussianProcessExactCorrelated2   \n",
       "7                     EnsembleMLP8   \n",
       "2                        LightGBM3   \n",
       "\n",
       "                                               model  \\\n",
       "4  <autoemulate.experimental.emulators.transforme...   \n",
       "3  <autoemulate.experimental.emulators.transforme...   \n",
       "6  <autoemulate.experimental.emulators.transforme...   \n",
       "8  <autoemulate.experimental.emulators.transforme...   \n",
       "0  <autoemulate.experimental.emulators.transforme...   \n",
       "5  <autoemulate.experimental.emulators.transforme...   \n",
       "1  <autoemulate.experimental.emulators.transforme...   \n",
       "7  <autoemulate.experimental.emulators.transforme...   \n",
       "2  <autoemulate.experimental.emulators.transforme...   \n",
       "\n",
       "               x_transforms              y_transforms    rmse_score  r2_score  \n",
       "4  [StandardizeTransform()]  [StandardizeTransform()]  1.138497e+05  0.998257  \n",
       "3  [StandardizeTransform()]  [StandardizeTransform()]  8.617381e+05  0.986833  \n",
       "6  [StandardizeTransform()]  [StandardizeTransform()]  1.905225e+06  0.964821  \n",
       "8  [StandardizeTransform()]  [StandardizeTransform()]  2.176334e+06  0.954764  \n",
       "0  [StandardizeTransform()]  [StandardizeTransform()]  3.493427e+06  0.932148  \n",
       "5  [StandardizeTransform()]  [StandardizeTransform()]  4.254566e+06  0.907670  \n",
       "1  [StandardizeTransform()]  [StandardizeTransform()]  4.819938e+06  0.901063  \n",
       "7  [StandardizeTransform()]  [StandardizeTransform()]  1.589897e+07  0.026333  \n",
       "2  [StandardizeTransform()]  [StandardizeTransform()]  2.675936e+07 -1.935869  "
      ]
     },
     "execution_count": 4,
     "metadata": {},
     "output_type": "execute_result"
    }
   ],
   "source": [
    "ae.summarise()"
   ]
  },
  {
   "cell_type": "code",
   "execution_count": 5,
   "metadata": {},
   "outputs": [
    {
     "data": {
      "text/plain": [
       "'RadialBasisFunctions5'"
      ]
     },
     "execution_count": 5,
     "metadata": {},
     "output_type": "execute_result"
    }
   ],
   "source": [
    "best = ae.best_result()\n",
    "best.id"
   ]
  },
  {
   "cell_type": "code",
   "execution_count": 6,
   "metadata": {},
   "outputs": [
    {
     "data": {
      "image/png": "[encoded data removed]",
      "text/plain": [
       "<Figure size 1000x400 with 2 Axes>"
      ]
     },
     "execution_count": 6,
     "metadata": {},
     "output_type": "execute_result"
    }
   ],
   "source": [
    "ae.plot(best.id)"
   ]
  },
  {
   "cell_type": "markdown",
   "metadata": {},
   "source": [
    "## Predictions\n",
    "\n",
    "We can use the model to make predictions for new inputs. Emulators in `AutoEmulate` can use the `predict` method to make predictions.\n"
   ]
  },
  {
   "cell_type": "code",
   "execution_count": 7,
   "metadata": {},
   "outputs": [
    {
     "data": {
      "text/plain": [
       "tensor([[ 1.8666e+01],\n",
       "        [ 6.4917e-01],\n",
       "        [ 1.4126e+02],\n",
       "        [ 1.2894e+01],\n",
       "        [ 8.2532e+00],\n",
       "        [-1.4049e+01],\n",
       "        [ 5.8306e+03],\n",
       "        [ 3.0411e+04],\n",
       "        [ 9.5464e+00],\n",
       "        [ 5.5194e+03]])"
      ]
     },
     "execution_count": 7,
     "metadata": {},
     "output_type": "execute_result"
    }
   ],
   "source": [
    "best.model.predict(x[:10])"
   ]
  },
  {
   "cell_type": "code",
   "execution_count": null,
   "metadata": {},
   "outputs": [],
   "source": []
  }
 ],
 "metadata": {
  "kernelspec": {
   "display_name": ".venv",
   "language": "python",
   "name": "python3"
  },
  "language_info": {
   "codemirror_mode": {
    "name": "ipython",
    "version": 3
   },
   "file_extension": ".py",
   "mimetype": "text/x-python",
   "name": "python",
   "nbconvert_exporter": "python",
   "pygments_lexer": "ipython3",
   "version": "3.12.11"
  }
 },
 "nbformat": 4,
 "nbformat_minor": 2
}
