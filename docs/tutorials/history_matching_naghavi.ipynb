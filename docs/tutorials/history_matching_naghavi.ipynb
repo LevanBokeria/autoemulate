{
 "cells": [
  {
   "cell_type": "markdown",
   "metadata": {},
   "source": [
    "# Integrating a User-provided simulator in the end-to-end AutoEmulate workflow \n",
    "\n",
    "### In this workflow we demonstrate the integration of a Cardiovascular simulator, Naghavi Model from ModularCirc in the end-to-end AutoEmulate workflow. \n",
    "Naghavi model is a 0D (zero-dimensional) computational model of the cardiovascular system, which is used to simulate blood flow and pressure dynamics in the heart and blood vessels.\n",
    "\n",
    "This demo includes:\n",
    "- Setting up parameter ranges \n",
    "- Creating sapmles\n",
    "- Running the simulator to generate training data for the emulator \n",
    "- Using Autoemulate to find the best pre-processing technique and model tailored to the simulation data \n",
    "- Applying history matching to refine the model and enhance parameter ranges \n",
    "- Sensitvity Analysis "
   ]
  },
  {
   "cell_type": "markdown",
   "metadata": {},
   "source": [
    "## Additional dependency requirements\n",
    "\n",
    "#### In this demonstration we are using the Naghavi Model Simulator from ModularCirc library. Therefore, the user needs to install the ModularCirc library in their existing AutoEmulate virtual environemnt as an additional dependency. "
   ]
  },
  {
   "cell_type": "code",
   "execution_count": 22,
   "metadata": {},
   "outputs": [],
   "source": [
    "# ! pip install git+https://github.com/alan-turing-institute/ModularCirc.git@dev"
   ]
  },
  {
   "cell_type": "markdown",
   "metadata": {},
   "source": [
    "#### Create a dictionary called `parameters_range` which contains teh name of the simulator input parameters and their range."
   ]
  },
  {
   "cell_type": "code",
   "execution_count": null,
   "metadata": {},
   "outputs": [
    {
     "data": {
      "text/plain": [
       "dict"
      ]
     },
     "execution_count": 26,
     "metadata": {},
     "output_type": "execute_result"
    }
   ],
   "source": [
    "from autoemulate.simulations.naghavi_cardiac_ModularCirc import extract_parameter_ranges\n",
    "# Usage example:\n",
    "parameters_range = extract_parameter_ranges('/Users/mfamili/work/ModularCirc/Tutorials/Tutorial_03/Parameters_01.json')\n",
    "parameters_range"
   ]
  },
  {
   "cell_type": "markdown",
   "metadata": {},
   "source": [
    "#### Use  `LatinHypercube` method from AutoEmulate to generate initial samples using the parameters range "
   ]
  },
  {
   "cell_type": "code",
   "execution_count": null,
   "metadata": {},
   "outputs": [
    {
     "name": "stdout",
     "output_type": "stream",
     "text": [
      "Number of parameters: 16 Number of samples from each parameter: 150\n"
     ]
    },
    {
     "data": {
      "text/html": [
       "<div>\n",
       "<style scoped>\n",
       "    .dataframe tbody tr th:only-of-type {\n",
       "        vertical-align: middle;\n",
       "    }\n",
       "\n",
       "    .dataframe tbody tr th {\n",
       "        vertical-align: top;\n",
       "    }\n",
       "\n",
       "    .dataframe thead th {\n",
       "        text-align: right;\n",
       "    }\n",
       "</style>\n",
       "<table border=\"1\" class=\"dataframe\">\n",
       "  <thead>\n",
       "    <tr style=\"text-align: right;\">\n",
       "      <th></th>\n",
       "      <th>ao.r</th>\n",
       "      <th>ao.c</th>\n",
       "      <th>art.r</th>\n",
       "      <th>art.c</th>\n",
       "      <th>ven.r</th>\n",
       "      <th>ven.c</th>\n",
       "      <th>av.r</th>\n",
       "      <th>mv.r</th>\n",
       "      <th>la.E_pas</th>\n",
       "      <th>la.E_act</th>\n",
       "      <th>la.v_ref</th>\n",
       "      <th>la.k_pas</th>\n",
       "      <th>lv.E_pas</th>\n",
       "      <th>lv.E_act</th>\n",
       "      <th>lv.v_ref</th>\n",
       "      <th>lv.k_pas</th>\n",
       "    </tr>\n",
       "  </thead>\n",
       "  <tbody>\n",
       "    <tr>\n",
       "      <th>0</th>\n",
       "      <td>176.819881</td>\n",
       "      <td>0.406248</td>\n",
       "      <td>1049.271979</td>\n",
       "      <td>4.450300</td>\n",
       "      <td>6.502936</td>\n",
       "      <td>153.452000</td>\n",
       "      <td>4.532071</td>\n",
       "      <td>2.411829</td>\n",
       "      <td>0.652911</td>\n",
       "      <td>0.464574</td>\n",
       "      <td>14.813956</td>\n",
       "      <td>0.034605</td>\n",
       "      <td>1.324480</td>\n",
       "      <td>3.962469</td>\n",
       "      <td>6.865957</td>\n",
       "      <td>0.033686</td>\n",
       "    </tr>\n",
       "    <tr>\n",
       "      <th>1</th>\n",
       "      <td>232.861667</td>\n",
       "      <td>0.225987</td>\n",
       "      <td>1332.000265</td>\n",
       "      <td>3.842844</td>\n",
       "      <td>7.473219</td>\n",
       "      <td>111.762093</td>\n",
       "      <td>3.624132</td>\n",
       "      <td>2.388363</td>\n",
       "      <td>0.265285</td>\n",
       "      <td>0.570591</td>\n",
       "      <td>13.350931</td>\n",
       "      <td>0.019960</td>\n",
       "      <td>1.391763</td>\n",
       "      <td>2.089688</td>\n",
       "      <td>6.772118</td>\n",
       "      <td>0.013968</td>\n",
       "    </tr>\n",
       "    <tr>\n",
       "      <th>2</th>\n",
       "      <td>259.115820</td>\n",
       "      <td>0.357755</td>\n",
       "      <td>754.951511</td>\n",
       "      <td>2.467084</td>\n",
       "      <td>7.750360</td>\n",
       "      <td>77.374964</td>\n",
       "      <td>4.193461</td>\n",
       "      <td>5.858118</td>\n",
       "      <td>0.498185</td>\n",
       "      <td>0.598356</td>\n",
       "      <td>5.967148</td>\n",
       "      <td>0.029932</td>\n",
       "      <td>1.066198</td>\n",
       "      <td>3.248931</td>\n",
       "      <td>8.610645</td>\n",
       "      <td>0.011033</td>\n",
       "    </tr>\n",
       "    <tr>\n",
       "      <th>3</th>\n",
       "      <td>290.388461</td>\n",
       "      <td>0.171399</td>\n",
       "      <td>1060.303364</td>\n",
       "      <td>2.432098</td>\n",
       "      <td>4.634911</td>\n",
       "      <td>143.860543</td>\n",
       "      <td>5.299102</td>\n",
       "      <td>3.955810</td>\n",
       "      <td>0.510764</td>\n",
       "      <td>0.415178</td>\n",
       "      <td>7.590902</td>\n",
       "      <td>0.063273</td>\n",
       "      <td>0.947786</td>\n",
       "      <td>2.941678</td>\n",
       "      <td>5.492776</td>\n",
       "      <td>0.038869</td>\n",
       "    </tr>\n",
       "    <tr>\n",
       "      <th>4</th>\n",
       "      <td>359.713091</td>\n",
       "      <td>0.317270</td>\n",
       "      <td>867.335829</td>\n",
       "      <td>3.404646</td>\n",
       "      <td>12.311142</td>\n",
       "      <td>92.489421</td>\n",
       "      <td>6.093638</td>\n",
       "      <td>6.115941</td>\n",
       "      <td>0.357064</td>\n",
       "      <td>0.611183</td>\n",
       "      <td>8.315153</td>\n",
       "      <td>0.061478</td>\n",
       "      <td>0.692467</td>\n",
       "      <td>2.998555</td>\n",
       "      <td>12.413691</td>\n",
       "      <td>0.019499</td>\n",
       "    </tr>\n",
       "  </tbody>\n",
       "</table>\n",
       "</div>"
      ],
      "text/plain": [
       "         ao.r      ao.c        art.r     art.c      ven.r       ven.c  \\\n",
       "0  176.819881  0.406248  1049.271979  4.450300   6.502936  153.452000   \n",
       "1  232.861667  0.225987  1332.000265  3.842844   7.473219  111.762093   \n",
       "2  259.115820  0.357755   754.951511  2.467084   7.750360   77.374964   \n",
       "3  290.388461  0.171399  1060.303364  2.432098   4.634911  143.860543   \n",
       "4  359.713091  0.317270   867.335829  3.404646  12.311142   92.489421   \n",
       "\n",
       "       av.r      mv.r  la.E_pas  la.E_act   la.v_ref  la.k_pas  lv.E_pas  \\\n",
       "0  4.532071  2.411829  0.652911  0.464574  14.813956  0.034605  1.324480   \n",
       "1  3.624132  2.388363  0.265285  0.570591  13.350931  0.019960  1.391763   \n",
       "2  4.193461  5.858118  0.498185  0.598356   5.967148  0.029932  1.066198   \n",
       "3  5.299102  3.955810  0.510764  0.415178   7.590902  0.063273  0.947786   \n",
       "4  6.093638  6.115941  0.357064  0.611183   8.315153  0.061478  0.692467   \n",
       "\n",
       "   lv.E_act   lv.v_ref  lv.k_pas  \n",
       "0  3.962469   6.865957  0.033686  \n",
       "1  2.089688   6.772118  0.013968  \n",
       "2  3.248931   8.610645  0.011033  \n",
       "3  2.941678   5.492776  0.038869  \n",
       "4  2.998555  12.413691  0.019499  "
      ]
     },
     "execution_count": 27,
     "metadata": {},
     "output_type": "execute_result"
    }
   ],
   "source": [
    "import pandas as pd\n",
    "import numpy as np\n",
    "from autoemulate.experimental_design import LatinHypercube\n",
    "\n",
    "# Generate Latin Hypercube samples\n",
    "N_samples = 150\n",
    "lhd = LatinHypercube(list(parameters_range.values()))\n",
    "sample_array = lhd.sample(N_samples)\n",
    "sample_df = pd.DataFrame(sample_array, columns=parameters_range.keys())\n",
    "\n",
    "print(\"Number of parameters:\", sample_df.shape[1], \"Number of samples from each parameter:\", sample_df.shape[0])\n",
    "sample_df.head()"
   ]
  },
  {
   "cell_type": "markdown",
   "metadata": {},
   "source": [
    "## Wrapping your Simulator in AutoEmulate Simulator Base Class\n",
    "\n",
    "#### "
   ]
  },
  {
   "cell_type": "code",
   "execution_count": null,
   "metadata": {},
   "outputs": [],
   "source": [
    "from autoemulate.simulations.naghavi_cardiac_ModularCirc import NaghaviSimulator\n",
    "# Initialize simulator with specific outputs\n",
    "simulator = NaghaviSimulator(\n",
    "    parameters_range=parameters_range, \n",
    "    output_variables=['lv.P_i', 'lv.P_o'],  # Only the ones you're interested in\n",
    "    n_cycles=300, \n",
    "    dt=0.001,\n",
    ")\n",
    "\n",
    "# Run batch simulations with the samples generated in Cell 1\n",
    "results = simulator.run_batch_simulations(sample_df)\n",
    "\n",
    "# Convert results to DataFrame for analysis\n",
    "results_df = pd.DataFrame(results)\n"
   ]
  },
  {
   "cell_type": "code",
   "execution_count": null,
   "metadata": {},
   "outputs": [],
   "source": [
    "print(\"Output names:\", simulator.output_names)\n",
    "results_df"
   ]
  },
  {
   "cell_type": "markdown",
   "metadata": {},
   "source": [
    "test your simulator with our test function to make sure it ios compatible wih AutoEmulate pipelien "
   ]
  },
  {
   "cell_type": "code",
   "execution_count": null,
   "metadata": {},
   "outputs": [],
   "source": [
    "# need a test for the simulator "
   ]
  },
  {
   "cell_type": "code",
   "execution_count": null,
   "metadata": {},
   "outputs": [],
   "source": [
    "import numpy as np\n",
    "import pandas as pd\n",
    "import matplotlib.pyplot as plt \n",
    "import autoemulate as ae\n",
    "from tqdm import tqdm\n",
    "import os\n",
    "\n",
    "from autoemulate.experimental_design import LatinHypercube\n",
    "from autoemulate.compare import AutoEmulate\n",
    "from autoemulate.plotting import _predict_with_optional_std\n",
    "\n",
    "\n",
    "preprocessing_methods = [{\"name\" : \"PCA\", \"params\" : {\"reduced_dim\": 2}}]\n",
    "em = AutoEmulate()\n",
    "em.setup(sample_df, results, models=[\"gp\"], scale_output = True, reduce_dim_output=True, preprocessing_methods=preprocessing_methods)\n"
   ]
  },
  {
   "cell_type": "code",
   "execution_count": null,
   "metadata": {},
   "outputs": [],
   "source": [
    "best_model = em.compare()"
   ]
  },
  {
   "cell_type": "code",
   "execution_count": null,
   "metadata": {},
   "outputs": [],
   "source": [
    "em.summarise_cv()"
   ]
  },
  {
   "cell_type": "code",
   "execution_count": null,
   "metadata": {},
   "outputs": [],
   "source": [
    "#em.plot_eval(model=best_model)\n",
    "best_model"
   ]
  },
  {
   "cell_type": "code",
   "execution_count": null,
   "metadata": {},
   "outputs": [],
   "source": [
    "## 3) Evaluate the emulator (on the test set)\n",
    "gp = em.get_model('GaussianProcess')\n",
    "em.evaluate(gp)"
   ]
  },
  {
   "cell_type": "code",
   "execution_count": null,
   "metadata": {},
   "outputs": [],
   "source": [
    "gp\n",
    "gp_final = em.refit(gp)\n",
    "em.plot_eval(gp_final)"
   ]
  },
  {
   "cell_type": "code",
   "execution_count": null,
   "metadata": {},
   "outputs": [],
   "source": [
    "print(\"Available methods:\", [method for method in dir(gp_final) if callable(getattr(gp_final, method))])"
   ]
  },
  {
   "cell_type": "markdown",
   "metadata": {},
   "source": [
    "now run hjistory matching"
   ]
  },
  {
   "cell_type": "code",
   "execution_count": null,
   "metadata": {},
   "outputs": [],
   "source": [
    "from autoemulate.history_matching import HistoryMatcher\n",
    "# Define observed data with means and variances\n",
    "observations = {\n",
    "    'lv.P_i_min': (0.0, 0.1),   # Minimum of minimum LV pressure\n",
    "    'lv.P_i_max': (20.0, 0.1),   # Maximum of minimum LV pressure\n",
    "    'lv.P_i_mean': (15.0, 0.1),  # Mean of minimum LV pressure\n",
    "    'lv.P_i_range': (15.0, 0.5), # Range of minimum LV pressure\n",
    "    'lv.P_o_min': (1.0, 0.1),  # Minimum of maximum LV pressure\n",
    "    'lv.P_o_max': (13.0, 0.1),  # Maximum of maximum LV pressure\n",
    "    'lv.P_o_mean': (12.0, 0.1), # Mean of maximum LV pressure\n",
    "    'lv.P_o_range': (20.0, 0.5)  # Range of maximum LV pressure\n",
    "}\n",
    "    \n",
    "# Test generating samples\n",
    "samples = simulator.sample_inputs(10)\n",
    "\n",
    "# Create history matcher\n",
    "hm = HistoryMatcher(\n",
    "    simulator=simulator,\n",
    "    observations=observations,  # This needs both means and variances\n",
    "    threshold=3.0\n",
    ")\n",
    "\n",
    "# Run history matching\n",
    "all_samples, all_impl_scores, emulator = hm.run_history_matching(\n",
    "    n_waves=20,\n",
    "    n_samples_per_wave=10,\n",
    "    use_emulator=True,\n",
    "    initial_emulator=gp_final,\n",
    ")"
   ]
  },
  {
   "cell_type": "code",
   "execution_count": null,
   "metadata": {},
   "outputs": [],
   "source": [
    "em.plot_eval(emulator)"
   ]
  },
  {
   "cell_type": "code",
   "execution_count": null,
   "metadata": {},
   "outputs": [],
   "source": [
    "em.evaluate(emulator)"
   ]
  },
  {
   "cell_type": "code",
   "execution_count": null,
   "metadata": {},
   "outputs": [],
   "source": [
    "from autoemulate.history_matching_dashboard import HistoryMatchingDashboard\n",
    "dashboard = HistoryMatchingDashboard(\n",
    "    samples=all_samples,\n",
    "    impl_scores=all_impl_scores,\n",
    "    param_names=simulator.param_names,  # Use simulator.param_names instead of parameter_names\n",
    "    output_names=simulator.output_names  # Use simulator.output_names instead of output_names\n",
    ")\n",
    "dashboard.display()"
   ]
  },
  {
   "cell_type": "code",
   "execution_count": null,
   "metadata": {},
   "outputs": [],
   "source": []
  },
  {
   "cell_type": "code",
   "execution_count": null,
   "metadata": {},
   "outputs": [],
   "source": [
    "# Extract parameter names and bounds from the dictionary\n",
    "parameter_names = list(parameters_range.keys())\n",
    "parameter_bounds = list(parameters_range.values())\n",
    "\n",
    "# Define the problem dictionary for Sobol sensitivity analysis\n",
    "problem = {\n",
    "    'num_vars': len(parameter_names),\n",
    "    'names': parameter_names,\n",
    "    'bounds': parameter_bounds\n",
    "}\n"
   ]
  },
  {
   "cell_type": "code",
   "execution_count": null,
   "metadata": {},
   "outputs": [],
   "source": [
    "em.sensitivity_analysis(problem=problem)\n"
   ]
  },
  {
   "cell_type": "code",
   "execution_count": null,
   "metadata": {},
   "outputs": [],
   "source": []
  }
 ],
 "metadata": {
  "kernelspec": {
   "display_name": "env_ae",
   "language": "python",
   "name": "python3"
  },
  "language_info": {
   "codemirror_mode": {
    "name": "ipython",
    "version": 3
   },
   "file_extension": ".py",
   "mimetype": "text/x-python",
   "name": "python",
   "nbconvert_exporter": "python",
   "pygments_lexer": "ipython3",
   "version": "3.12.9"
  }
 },
 "nbformat": 4,
 "nbformat_minor": 2
}
