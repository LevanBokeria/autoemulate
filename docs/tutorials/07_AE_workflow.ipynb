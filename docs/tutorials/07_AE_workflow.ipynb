{
 "cells": [
  {
   "cell_type": "markdown",
   "metadata": {},
   "source": [
    "# Integrating a User-provided simulator in the end-to-end AutoEmulate workflow \n",
    "\n",
    "### In this workflow we demonstrate the integration of a Cardiovascular simulator, Naghavi Model from ModularCirc in the end-to-end AutoEmulate workflow. \n",
    "Naghavi model is a 0D (zero-dimensional) computational model of the cardiovascular system, which is used to simulate blood flow and pressure dynamics in the heart and blood vessels.\n",
    "\n",
    "This demo includes:\n",
    "- Setting up parameter ranges \n",
    "- Creating samples\n",
    "- Running the simulator to generate training data for the emulator \n",
    "- Using Autoemulate to find the best pre-processing technique and model tailored to the simulation data \n",
    "- Applying history matching to refine the model and enhance parameter ranges \n",
    "- Sensitvity Analysis \n",
    "\n",
    "\n",
    "<img src=\"../../misc/workflow.png\" alt=\"Work Flow\" style=\"width:100%;\"/>\n"
   ]
  },
  {
   "cell_type": "markdown",
   "metadata": {},
   "source": [
    "## Additional dependency requirements\n",
    "\n",
    "#### In this demonstration we are using the Naghavi Model Simulator from ModularCirc library. Therefore, the user needs to install the ModularCirc library in their existing AutoEmulate virtual environemnt as an additional dependency. "
   ]
  },
  {
   "cell_type": "code",
   "execution_count": null,
   "metadata": {},
   "outputs": [],
   "source": [
    "# ! pip install git+https://github.com/alan-turing-institute/ModularCirc.git@dev"
   ]
  },
  {
   "cell_type": "markdown",
   "metadata": {},
   "source": [
    "#### 1 - Create a dictionary called `parameters_range` which contains the name of the simulator input parameters and their range."
   ]
  },
  {
   "cell_type": "code",
   "execution_count": null,
   "metadata": {},
   "outputs": [],
   "source": [
    "from autoemulate.simulations.naghavi_cardiac_ModularCirc import extract_parameter_ranges\n",
    "# Usage example:\n",
    "parameters_range = extract_parameter_ranges('../data/naghavi_model_parameters.json')\n",
    "parameters_range"
   ]
  },
  {
   "cell_type": "markdown",
   "metadata": {},
   "source": [
    "#### 2 - Use  `LatinHypercube` method from AutoEmulate to generate initial samples using the parameters range "
   ]
  },
  {
   "cell_type": "code",
   "execution_count": null,
   "metadata": {},
   "outputs": [],
   "source": [
    "import pandas as pd\n",
    "import numpy as np\n",
    "from autoemulate.experimental_design import LatinHypercube\n",
    "\n",
    "# Generate Latin Hypercube samples\n",
    "N_samples = 10\n",
    "lhd = LatinHypercube(list(parameters_range.values()))\n",
    "sample_array = lhd.sample(N_samples)\n",
    "sample_df = pd.DataFrame(sample_array, columns=parameters_range.keys())\n",
    "\n",
    "print(\"Number of parameters:\", sample_df.shape[1], \"Number of samples from each parameter:\", sample_df.shape[0])\n",
    "sample_df.head()"
   ]
  },
  {
   "cell_type": "markdown",
   "metadata": {},
   "source": [
    "#### 3 - Wrapping your Simulator in AutoEmulate Simulator Base Class\n",
    "\n",
    "<img src=\"../../misc/base_simulator_guid.png\" alt=\"Work Flow\" style=\"width:20%;\"/>\n"
   ]
  },
  {
   "cell_type": "code",
   "execution_count": null,
   "metadata": {},
   "outputs": [],
   "source": [
    "from autoemulate.simulations.naghavi_cardiac_ModularCirc import NaghaviSimulator\n",
    "# Initialize simulator with specific outputs\n",
    "simulator = NaghaviSimulator(\n",
    "    parameters_range=parameters_range, \n",
    "    output_variables=['lv.P_i', 'lv.P_o'],  # Only the ones you're interested in\n",
    "    n_cycles=300, \n",
    "    dt=0.001,\n",
    ")"
   ]
  },
  {
   "cell_type": "markdown",
   "metadata": {},
   "source": [
    "#### 4 - run the simulator using the `run_batch_simulations` for all your samples to obtain data for training AutoEmulate. "
   ]
  },
  {
   "cell_type": "code",
   "execution_count": null,
   "metadata": {},
   "outputs": [],
   "source": [
    "# Run batch simulations with the samples generated in Cell 1\n",
    "results = simulator.run_batch_simulations(sample_df)\n",
    "\n",
    "# Convert results to DataFrame for analysis\n",
    "results_df = pd.DataFrame(results)"
   ]
  },
  {
   "cell_type": "code",
   "execution_count": null,
   "metadata": {},
   "outputs": [],
   "source": [
    "results_df"
   ]
  },
  {
   "cell_type": "markdown",
   "metadata": {},
   "source": [
    "#### Note that the first 4 steps can be replaced by having stored the output of your simulation in a file and then reading them in to a dataframe. However the purpose of this article is to demonstrate the use of a User-provided simulator in an end-to-end workflow. "
   ]
  },
  {
   "cell_type": "code",
   "execution_count": null,
   "metadata": {},
   "outputs": [],
   "source": [
    "\n",
    "simulator.output_names"
   ]
  },
  {
   "cell_type": "markdown",
   "metadata": {},
   "source": [
    "#### Test your simulator with our test function to make sure it is compatible with AutoEmulate pipeline (Feature not provided yet)\n"
   ]
  },
  {
   "cell_type": "code",
   "execution_count": null,
   "metadata": {},
   "outputs": [],
   "source": [
    "# this should be replaced with a test written specically to test the simulator written by the user\n",
    "# ! pytest ../../tests/test_base_simulator.py"
   ]
  },
  {
   "cell_type": "markdown",
   "metadata": {},
   "source": [
    "#### 5 - Setup AutoEmulate \n",
    "- User should choose from the available target `pre-processing` methods the methods they would like to investigate.\n",
    "- User should choose from the available `models` the `models` they would like to investigate.\n",
    "- Setup AutoEmulate "
   ]
  },
  {
   "cell_type": "code",
   "execution_count": null,
   "metadata": {},
   "outputs": [],
   "source": [
    "import numpy as np\n",
    "import pandas as pd\n",
    "import matplotlib.pyplot as plt \n",
    "import autoemulate as ae\n",
    "from tqdm import tqdm\n",
    "import os\n",
    "\n",
    "from autoemulate.experimental_design import LatinHypercube\n",
    "from autoemulate.compare import AutoEmulate\n",
    "from autoemulate.plotting import _predict_with_optional_std\n",
    "\n",
    "\n",
    "preprocessing_methods = [{\"name\" : \"PCA\", \"params\" : {\"reduced_dim\": 2}}]\n",
    "em = AutoEmulate()\n",
    "em.setup(sample_df, results, models=[\"gp\"], scale_output = True, reduce_dim_output=True, preprocessing_methods=preprocessing_methods)\n"
   ]
  },
  {
   "cell_type": "markdown",
   "metadata": {},
   "source": [
    "#### 6 - run compare to train AutoEmulate and extract the best model "
   ]
  },
  {
   "cell_type": "code",
   "execution_count": null,
   "metadata": {},
   "outputs": [],
   "source": [
    "best_model = em.compare()"
   ]
  },
  {
   "cell_type": "markdown",
   "metadata": {},
   "source": [
    "#### 7 - Examine the summary of cross-validation "
   ]
  },
  {
   "cell_type": "code",
   "execution_count": null,
   "metadata": {},
   "outputs": [],
   "source": [
    "em.summarise_cv()"
   ]
  },
  {
   "cell_type": "code",
   "execution_count": null,
   "metadata": {},
   "outputs": [],
   "source": [
    "best_model"
   ]
  },
  {
   "cell_type": "markdown",
   "metadata": {},
   "source": [
    "#### 7 - Extract the desired model, run evaluation and refit using the whole dataset "
   ]
  },
  {
   "cell_type": "code",
   "execution_count": null,
   "metadata": {},
   "outputs": [],
   "source": [
    "gp = em.get_model('GaussianProcess')\n",
    "em.evaluate(gp)"
   ]
  },
  {
   "cell_type": "code",
   "execution_count": null,
   "metadata": {},
   "outputs": [],
   "source": [
    "gp_final = em.refit(gp)\n",
    "gp_final"
   ]
  },
  {
   "cell_type": "code",
   "execution_count": null,
   "metadata": {},
   "outputs": [],
   "source": [
    "em.plot_eval(gp_final)"
   ]
  },
  {
   "cell_type": "markdown",
   "metadata": {},
   "source": [
    "#### 8 - History Matching\n",
    "Once you have the final model, running history matching can improve your model.\n",
    "\n",
    "- create a dictionary of your observations, this should match the output names of your simulator \n",
    "- create the history matching object \n",
    "- run history matching \n"
   ]
  },
  {
   "cell_type": "code",
   "execution_count": null,
   "metadata": {},
   "outputs": [],
   "source": [
    "from autoemulate.history_matching import HistoryMatcher\n",
    "\n",
    "# Define observed data with means and variances\n",
    "observations = {\n",
    "    'lv.P_i_min': (0.0, 0.1),   # Minimum of minimum LV pressure\n",
    "    'lv.P_i_max': (20.0, 0.1),   # Maximum of minimum LV pressure\n",
    "    'lv.P_i_mean': (15.0, 0.1),  # Mean of minimum LV pressure\n",
    "    'lv.P_i_range': (15.0, 0.5), # Range of minimum LV pressure\n",
    "    'lv.P_o_min': (1.0, 0.1),  # Minimum of maximum LV pressure\n",
    "    'lv.P_o_max': (13.0, 0.1),  # Maximum of maximum LV pressure\n",
    "    'lv.P_o_mean': (12.0, 0.1), # Mean of maximum LV pressure\n",
    "    'lv.P_o_range': (20.0, 0.5)  # Range of maximum LV pressure\n",
    "}\n",
    "\n",
    "# Create history matcher\n",
    "hm = HistoryMatcher(\n",
    "    simulator=simulator,\n",
    "    observations=observations,\n",
    "    threshold=3.0\n",
    ")\n",
    "\n",
    "# Run history matching\n",
    "all_samples, all_impl_scores, emulator = hm.run_history_matching(\n",
    "    n_waves=20,\n",
    "    n_samples_per_wave=10,\n",
    "    use_emulator=True,\n",
    "    initial_emulator=gp_final,\n",
    ")"
   ]
  },
  {
   "cell_type": "code",
   "execution_count": null,
   "metadata": {},
   "outputs": [],
   "source": [
    "em.plot_eval(emulator)"
   ]
  },
  {
   "cell_type": "markdown",
   "metadata": {},
   "source": [
    "#### 9 - use the interactive dashboard to inspect the results of history matching "
   ]
  },
  {
   "cell_type": "code",
   "execution_count": null,
   "metadata": {},
   "outputs": [],
   "source": [
    "from autoemulate.history_matching_dashboard import HistoryMatchingDashboard\n",
    "dashboard = HistoryMatchingDashboard(\n",
    "    samples=all_samples,\n",
    "    impl_scores=all_impl_scores,\n",
    "    param_names=simulator.param_names,  \n",
    "    output_names=simulator.output_names, \n",
    "    )\n",
    "dashboard.display()"
   ]
  },
  {
   "cell_type": "code",
   "execution_count": null,
   "metadata": {},
   "outputs": [],
   "source": []
  },
  {
   "cell_type": "markdown",
   "metadata": {},
   "source": [
    "#### 10- Sensitivity Analysis \n",
    "Use AutoEmulate to perform sensitivity analysis. "
   ]
  },
  {
   "cell_type": "code",
   "execution_count": null,
   "metadata": {},
   "outputs": [],
   "source": [
    "# Extract parameter names and bounds from the dictionary\n",
    "parameter_names = list(parameters_range.keys())\n",
    "parameter_bounds = list(parameters_range.values())\n",
    "\n",
    "# Define the problem dictionary for Sobol sensitivity analysis\n",
    "problem = {\n",
    "    'num_vars': len(parameter_names),\n",
    "    'names': parameter_names,\n",
    "    'bounds': parameter_bounds\n",
    "}\n"
   ]
  },
  {
   "cell_type": "code",
   "execution_count": null,
   "metadata": {},
   "outputs": [],
   "source": [
    "em.sensitivity_analysis(problem=problem)\n"
   ]
  },
  {
   "cell_type": "code",
   "execution_count": null,
   "metadata": {},
   "outputs": [],
   "source": []
  }
 ],
 "metadata": {
  "kernelspec": {
   "display_name": ".venv",
   "language": "python",
   "name": "python3"
  },
  "language_info": {
   "codemirror_mode": {
    "name": "ipython",
    "version": 3
   },
   "file_extension": ".py",
   "mimetype": "text/x-python",
   "name": "python",
   "nbconvert_exporter": "python",
   "pygments_lexer": "ipython3",
   "version": "3.12.9"
  }
 },
 "nbformat": 4,
 "nbformat_minor": 2
}
