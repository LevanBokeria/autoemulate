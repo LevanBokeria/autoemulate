{
 "cells": [
  {
   "cell_type": "code",
   "execution_count": null,
   "metadata": {},
   "outputs": [],
   "source": [
    "import pandas as pd\n",
    "import numpy as np\n",
    "import os "
   ]
  },
  {
   "cell_type": "markdown",
   "metadata": {},
   "source": [
    "### Read the input and output of the simulator"
   ]
  },
  {
   "cell_type": "markdown",
   "metadata": {},
   "source": [
    "##### Define the path to the folder of the outputs and the samples.csv\n",
    "The outputs here are generated using ModularCirc Library (Tutorial_03)"
   ]
  },
  {
   "cell_type": "code",
   "execution_count": null,
   "metadata": {},
   "outputs": [],
   "source": [
    "out_path = '/Users/mfamili/work/ModularCirc/Tutorials/Tutorial_03/Outputs/Out_01'\n",
    "in_path = '/Users/mfamili/work/ModularCirc/Tutorials/Tutorial_03/samples_Naghavi.csv'"
   ]
  },
  {
   "cell_type": "code",
   "execution_count": null,
   "metadata": {},
   "outputs": [],
   "source": [
    "parameters = pd.read_csv(in_path)\n",
    "len(parameters)"
   ]
  },
  {
   "cell_type": "markdown",
   "metadata": {},
   "source": [
    "##### Read and process outputs\n",
    "- Read the outputs and convert them to a list of dictionaries. report if any output files are missing\n",
    "- convert outputs to a numpy array of (number of samples, number of outputs)"
   ]
  },
  {
   "cell_type": "code",
   "execution_count": null,
   "metadata": {},
   "outputs": [],
   "source": [
    "outputs = []\n",
    "num_sim = 1000\n",
    "no_sim_result_list = []\n",
    "# Loop through the expected range of files\n",
    "for i in range(num_sim):\n",
    "    filename = f\"all_outputs_{i}.csv\"\n",
    "    file_path = os.path.join(out_path, filename)\n",
    "    \n",
    "    if os.path.exists(file_path):  # Check if the file exists\n",
    "        try:\n",
    "            # Read the DataFrame and append it to the list\n",
    "            df = pd.read_csv(file_path)\n",
    "            outputs.append(df)\n",
    "        except Exception as e:\n",
    "            print(f\"Error reading {file_path}: {e}\")\n",
    "            outputs.append(False)  # Append False if there's an error\n",
    "    else:\n",
    "        no_sim_result_list.append(i)\n",
    "        print(f\"File {file_path} doesn't exist\")\n",
    "        outputs.append(False)  # Append False if the file doesn't exist\n",
    "\n",
    "outs = np.array([df.max().values - df.min().values for df in outputs])\n",
    "print(np.array(outs).shape)\n",
    "print(np.array(outs).dtype)\n"
   ]
  },
  {
   "cell_type": "markdown",
   "metadata": {},
   "source": [
    "##### Update the parameters to drop the parameter sets where the output is missing"
   ]
  },
  {
   "cell_type": "code",
   "execution_count": null,
   "metadata": {},
   "outputs": [],
   "source": [
    "updated_parameters = parameters.drop(no_sim_result_list)\n",
    "updated_parameters= updated_parameters.to_numpy()\n",
    "updated_parameters.shape"
   ]
  },
  {
   "cell_type": "markdown",
   "metadata": {},
   "source": [
    "##### Setup autoemulate \n",
    "- here we are choosing to preprocess the outputs in order to reduce the dimentionality\n"
   ]
  },
  {
   "cell_type": "code",
   "execution_count": null,
   "metadata": {},
   "outputs": [],
   "source": [
    "from autoemulate.compare import AutoEmulate\n",
    "em = AutoEmulate()\n",
    "em.setup(updated_parameters, outs, models=[\"gp\"], preprocess_outputs = ['vae'])\n"
   ]
  },
  {
   "cell_type": "code",
   "execution_count": null,
   "metadata": {},
   "outputs": [],
   "source": [
    "best_model = em.compare()"
   ]
  },
  {
   "cell_type": "code",
   "execution_count": null,
   "metadata": {},
   "outputs": [],
   "source": [
    "best_model"
   ]
  },
  {
   "cell_type": "code",
   "execution_count": null,
   "metadata": {},
   "outputs": [],
   "source": [
    "em.summarise_cv()"
   ]
  },
  {
   "cell_type": "code",
   "execution_count": null,
   "metadata": {},
   "outputs": [],
   "source": [
    "gp = em.get_model(\"GaussianProcess\")\n",
    "em.evaluate(gp)\n",
    "em.plot_eval(gp, input_index=[0,1,2,3,4], output_index=[0,1,2])"
   ]
  },
  {
   "cell_type": "code",
   "execution_count": null,
   "metadata": {},
   "outputs": [],
   "source": [
    "em.plot_cv(style=\"residual_vs_predicted\")"
   ]
  },
  {
   "cell_type": "code",
   "execution_count": null,
   "metadata": {},
   "outputs": [],
   "source": []
  },
  {
   "cell_type": "code",
   "execution_count": null,
   "metadata": {},
   "outputs": [],
   "source": []
  }
 ],
 "metadata": {
  "kernelspec": {
   "display_name": "env_autoem",
   "language": "python",
   "name": "env_autoem"
  },
  "language_info": {
   "codemirror_mode": {
    "name": "ipython",
    "version": 3
   },
   "file_extension": ".py",
   "mimetype": "text/x-python",
   "name": "python",
   "nbconvert_exporter": "python",
   "pygments_lexer": "ipython3",
   "version": "3.11.4"
  }
 },
 "nbformat": 4,
 "nbformat_minor": 2
}
