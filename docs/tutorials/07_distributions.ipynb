{
 "cells": [
  {
   "cell_type": "markdown",
   "id": "d9ec04b8",
   "metadata": {},
   "source": [
    "# Distributions"
   ]
  },
  {
   "cell_type": "markdown",
   "id": "6a909646",
   "metadata": {},
   "source": [
    "Suppose we are trying to emulate a simulator's outputs $f(x) \\in \\mathbb{R}^d$. If we consider a batch of $n$ outputs then then we'd want to retrieve output means $\\mu \\in \\mathbb{R}^{nd}$ and covariances $\\Sigma \\in \\mathbb{R}^{nd \\times nd}$.\n",
    "$$\n",
    "\\Sigma =\n",
    "\\begin{bmatrix}\n",
    "\\Sigma_{11} & \\Sigma_{12} & \\cdots & \\Sigma_{1n} \\\\[6pt]\n",
    "\\Sigma_{21} & \\Sigma_{22} & \\cdots & \\Sigma_{2n} \\\\[6pt]\n",
    "\\vdots      & \\vdots      & \\ddots & \\vdots      \\\\[6pt]\n",
    "\\Sigma_{n1} & \\Sigma_{n2} & \\cdots & \\Sigma_{nn}\n",
    "\\end{bmatrix} \\in \\mathbb{R}^{nd \\times nd}\n",
    "\\quad \\text{s.t.} \\quad \n",
    "\\Sigma_{ij} \\in \\mathbb{R}^{d \\times d}\n",
    "$$\n",
    "where $\\Sigma_{ii}$ is the *marginal covariance* and $\\Sigma_{ij}$ is the *cross-covariance*."
   ]
  },
  {
   "cell_type": "markdown",
   "id": "8c0ce577",
   "metadata": {},
   "source": [
    "There are a couple of scenarios we want to consider:\n",
    "1. **Full**: no simplification to the above covariance matrix.\n",
    "2. **Block-diagonal**: $\\Sigma_{ij} = 0$ for all $i\\neq j$, i.e. no correlations between samples.\n",
    "3. **Diagonal**: $\\Sigma_{ij} = 0$ for all $i\\neq j$ and $\\Sigma_{ii}^{(a, b)} = 0$ for all $a \\neq b$, i.e. no correlations between sample dimensions.\n",
    "4. **Seperable**: $\\Sigma = \\Sigma_{N} \\otimes \\Sigma_{D}$ s.t. $\\Sigma_{\\text{N}} \\in \\mathbb{R}^{n \\times n}$ and $\\Sigma_{\\text{D}} \\in \\mathbb{R}^{d \\times d}$, i.e. correlations between samples and dimensions are modelled seperately. \n",
    "\n",
    "Note that:\n",
    "$$\n",
    "\\begin{aligned}\n",
    "\\text{Full} &\\supseteq \\text{Block-Diagonal} \\supseteq \\text{Diagonal} \\\\\n",
    "\\text{Full} &\\supseteq \\text{Seperable}\n",
    "\\end{aligned}\n",
    "$$"
   ]
  },
  {
   "cell_type": "code",
   "execution_count": 1,
   "id": "528bc08a",
   "metadata": {},
   "outputs": [],
   "source": [
    "import torch, time\n",
    "from autoemulate.experimental.data.gaussian import *\n",
    "%load_ext autoreload\n",
    "%autoreload 2"
   ]
  },
  {
   "cell_type": "code",
   "execution_count": 2,
   "id": "8e38f380",
   "metadata": {},
   "outputs": [],
   "source": [
    "n, d = 4, 3\n",
    "mean = torch.randn(n, d)"
   ]
  },
  {
   "cell_type": "markdown",
   "id": "3ab360d2",
   "metadata": {},
   "source": [
    "## Full $(nd, nd)$ covariance"
   ]
  },
  {
   "cell_type": "code",
   "execution_count": 3,
   "id": "f2d7b37e",
   "metadata": {},
   "outputs": [
    {
     "data": {
      "text/plain": [
       "(tensor(18.2819), tensor(155.3120), tensor(37.7297))"
      ]
     },
     "execution_count": 3,
     "metadata": {},
     "output_type": "execute_result"
    }
   ],
   "source": [
    "cov = torch.randn(n*d, n*d)\n",
    "cov = cov @ cov.T\n",
    "dist = Dense(mean, cov)\n",
    "dist.logdet(), dist.trace(), dist.max_eig()"
   ]
  },
  {
   "cell_type": "markdown",
   "id": "e03f98ae",
   "metadata": {},
   "source": [
    "## Block-diagonal $(n, d, d)$ covariance"
   ]
  },
  {
   "cell_type": "code",
   "execution_count": 4,
   "id": "298fd2ec",
   "metadata": {},
   "outputs": [
    {
     "data": {
      "text/plain": [
       "(tensor(3.0497), tensor(41.9208), tensor(9.6233))"
      ]
     },
     "execution_count": 4,
     "metadata": {},
     "output_type": "execute_result"
    }
   ],
   "source": [
    "cov = torch.randn(n, d, d)\n",
    "cov = cov @ cov.transpose(-1, -2) + torch.eye(d) * 1e-4\n",
    "dist = Block_Diagonal(mean, cov)\n",
    "dist.logdet(), dist.trace(), dist.max_eig()"
   ]
  },
  {
   "cell_type": "markdown",
   "id": "d92e4a58",
   "metadata": {},
   "source": [
    "## Diagonal $(n, d)$ covariance"
   ]
  },
  {
   "cell_type": "code",
   "execution_count": 5,
   "id": "122524dc",
   "metadata": {},
   "outputs": [
    {
     "data": {
      "text/plain": [
       "(tensor(-6.2500), tensor(9.7560), tensor(2.3465))"
      ]
     },
     "execution_count": 5,
     "metadata": {},
     "output_type": "execute_result"
    }
   ],
   "source": [
    "cov = torch.abs(torch.randn(n, d))\n",
    "dist = Diagonal(mean, cov)\n",
    "dist.logdet(), dist.trace(), dist.max_eig()"
   ]
  },
  {
   "cell_type": "markdown",
   "id": "a2319150",
   "metadata": {},
   "source": [
    "## Seperable $(n, n)$ and $(d, d)$ covariance"
   ]
  },
  {
   "cell_type": "code",
   "execution_count": 6,
   "id": "ca02bccb",
   "metadata": {},
   "outputs": [
    {
     "data": {
      "text/plain": [
       "(tensor(-10.1732), tensor(90.1683), tensor(46.8669))"
      ]
     },
     "execution_count": 6,
     "metadata": {},
     "output_type": "execute_result"
    }
   ],
   "source": [
    "cov_n = torch.randn(n, n)\n",
    "cov_n = cov_n @ cov_n.T + torch.eye(n) * 1e-4\n",
    "cov_d = torch.randn(d, d)\n",
    "cov_d = cov_d @ cov_d.T + torch.eye(d) * 1e-4\n",
    "dist = Separable(mean, cov_n, cov_d)\n",
    "dist.logdet(), dist.trace(), dist.max_eig()"
   ]
  },
  {
   "cell_type": "markdown",
   "id": "9aaa08b5",
   "metadata": {},
   "source": [
    "## Dirac"
   ]
  },
  {
   "cell_type": "code",
   "execution_count": 7,
   "id": "74be933d",
   "metadata": {},
   "outputs": [
    {
     "data": {
      "text/plain": [
       "(tensor(-inf), tensor(0.), tensor(0.))"
      ]
     },
     "execution_count": 7,
     "metadata": {},
     "output_type": "execute_result"
    }
   ],
   "source": [
    "dist = Dirac(mean)\n",
    "dist.logdet(), dist.trace(), dist.max_eig()"
   ]
  },
  {
   "cell_type": "markdown",
   "id": "355168ef",
   "metadata": {},
   "source": [
    "## Empirical distribution"
   ]
  },
  {
   "cell_type": "code",
   "execution_count": 8,
   "id": "6b04d09e",
   "metadata": {},
   "outputs": [],
   "source": [
    "k, n, d = 100, 3, 2"
   ]
  },
  {
   "cell_type": "code",
   "execution_count": 9,
   "id": "d88715bd",
   "metadata": {},
   "outputs": [
    {
     "data": {
      "text/plain": [
       "(tensor(-0.0492), tensor(6.1424), tensor(1.4122))"
      ]
     },
     "execution_count": 9,
     "metadata": {},
     "output_type": "execute_result"
    }
   ],
   "source": [
    "dist = Empirical_Dense(torch.randn(k, n, d))\n",
    "dist.logdet(), dist.trace(), dist.max_eig()"
   ]
  },
  {
   "cell_type": "code",
   "execution_count": 10,
   "id": "404e1d62",
   "metadata": {},
   "outputs": [
    {
     "data": {
      "text/plain": [
       "(tensor(-0.2205), tensor(5.8254), tensor(1.1238))"
      ]
     },
     "execution_count": 10,
     "metadata": {},
     "output_type": "execute_result"
    }
   ],
   "source": [
    "dist = Empirical_Block_Diagonal(torch.randn(k, n, d))\n",
    "dist.logdet(), dist.trace(), dist.max_eig()"
   ]
  },
  {
   "cell_type": "code",
   "execution_count": 11,
   "id": "f8015d1e",
   "metadata": {},
   "outputs": [
    {
     "data": {
      "text/plain": [
       "(tensor(-0.3838), tensor(5.7599), tensor(1.4086))"
      ]
     },
     "execution_count": 11,
     "metadata": {},
     "output_type": "execute_result"
    }
   ],
   "source": [
    "dist = Empirical_Diagonal(torch.randn(k, n, d))\n",
    "dist.logdet(), dist.trace(), dist.max_eig()"
   ]
  },
  {
   "cell_type": "markdown",
   "id": "8bff2ff4",
   "metadata": {},
   "source": [
    "## Ensemble of Gaussians"
   ]
  },
  {
   "cell_type": "markdown",
   "id": "2c69ba28",
   "metadata": {},
   "source": [
    "Let $K \\in \\mathbb{N}$ be the number of Gaussians. Then the mean and covariance of an ensemble of Gaussians is given by\n",
    "\n",
    "$$\n",
    "\\mu\n",
    "= \\frac{1}{K}\n",
    "  \\sum_{i=1}^{K}\n",
    "    \\mu_i,\n",
    "$$\n",
    "$$\n",
    "\\Sigma\n",
    "= \\frac{1}{K}\n",
    "  \\sum_{i=1}^{K}\n",
    "    \\Sigma_i\n",
    "+\n",
    "  \\frac{1}{K - 1}\n",
    "  \\sum_{i=1}^{K}\n",
    "    \\bigl(\\mu_i - \\mu\\bigr)\n",
    "    \\bigl(\\mu_i - \\mu\\bigr)^\\top.\n",
    "$$"
   ]
  },
  {
   "cell_type": "code",
   "execution_count": 19,
   "id": "71a5373e",
   "metadata": {},
   "outputs": [
    {
     "data": {
      "text/plain": [
       "(tensor(-1.7073), tensor(4.5409), tensor(0.8772))"
      ]
     },
     "execution_count": 19,
     "metadata": {},
     "output_type": "execute_result"
    }
   ],
   "source": [
    "dist = Ensemble(dists := [\n",
    "    Empirical_Dense(torch.randn(k, n, d)),\n",
    "    Empirical_Block_Diagonal(torch.randn(k, n, d)),\n",
    "    Empirical_Diagonal(torch.randn(k, n, d)),\n",
    "    Dirac(torch.randn(k, n, d).mean(dim=0))\n",
    "])\n",
    "dist.logdet(), dist.trace(), dist.max_eig()"
   ]
  }
 ],
 "metadata": {
  "kernelspec": {
   "display_name": ".venv",
   "language": "python",
   "name": "python3"
  },
  "language_info": {
   "codemirror_mode": {
    "name": "ipython",
    "version": 3
   },
   "file_extension": ".py",
   "mimetype": "text/x-python",
   "name": "python",
   "nbconvert_exporter": "python",
   "pygments_lexer": "ipython3",
   "version": "3.12.0"
  }
 },
 "nbformat": 4,
 "nbformat_minor": 5
}
