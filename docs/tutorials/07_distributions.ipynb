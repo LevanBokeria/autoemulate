{
 "cells": [
  {
   "cell_type": "markdown",
   "id": "d9ec04b8",
   "metadata": {},
   "source": [
    "# Distributions"
   ]
  },
  {
   "cell_type": "markdown",
   "id": "6a909646",
   "metadata": {},
   "source": [
    "Suppose we are trying to emulate a simulator's outputs $f(x) \\in \\mathbb{R}^d$. If we consider a batch of $n$ outputs then then we'd want to retrieve output means $\\mu \\in \\mathbb{R}^{nd}$ and covariances $\\Sigma \\in \\mathbb{R}^{nd \\times nd}$.\n",
    "$$\n",
    "\\Sigma =\n",
    "\\begin{bmatrix}\n",
    "\\Sigma_{11} & \\Sigma_{12} & \\cdots & \\Sigma_{1n} \\\\[6pt]\n",
    "\\Sigma_{21} & \\Sigma_{22} & \\cdots & \\Sigma_{2n} \\\\[6pt]\n",
    "\\vdots      & \\vdots      & \\ddots & \\vdots      \\\\[6pt]\n",
    "\\Sigma_{n1} & \\Sigma_{n2} & \\cdots & \\Sigma_{nn}\n",
    "\\end{bmatrix} \\in \\mathbb{R}^{nd \\times nd}\n",
    "\\quad \\text{s.t.} \\quad \n",
    "\\Sigma_{ij} \\in \\mathbb{R}^{d \\times d}\n",
    "$$\n",
    "where $\\Sigma_{ii}$ is the *marginal covariance* and $\\Sigma_{ij}$ is the *cross-covariance*."
   ]
  },
  {
   "cell_type": "markdown",
   "id": "8c0ce577",
   "metadata": {},
   "source": [
    "There are a couple of scenarios we want to consider:\n",
    "1. **Full**: no simplification to the above covariance matrix.\n",
    "2. **Block-diagonal**: $\\Sigma_{ij} = 0$ for all $i\\neq j$, i.e. no correlations between samples.\n",
    "3. **Diagonal**: $\\Sigma_{ij} = 0$ for all $i\\neq j$ and $\\Sigma_{ii}^{(a, b)} = 0$ for all $a \\neq b$, i.e. no correlations between sample dimensions.\n",
    "4. **Seperable**: $\\Sigma = \\Sigma_{N} \\otimes \\Sigma_{D}$ s.t. $\\Sigma_{\\text{N}} \\in \\mathbb{R}^{n \\times n}$ and $\\Sigma_{\\text{D}} \\in \\mathbb{R}^{d \\times d}$, i.e. correlations between samples and dimensions are modelled seperately. \n",
    "\n",
    "Note that:\n",
    "$$\n",
    "\\begin{aligned}\n",
    "\\text{Full} &\\supseteq \\text{Block-Diagonal} \\supseteq \\text{Diagonal} \\\\\n",
    "\\text{Full} &\\supseteq \\text{Seperable}\n",
    "\\end{aligned}\n",
    "$$"
   ]
  },
  {
   "cell_type": "code",
   "execution_count": 1,
   "id": "528bc08a",
   "metadata": {},
   "outputs": [],
   "source": [
    "import torch, time, numpy as np, pandas as pd\n",
    "from autoemulate.experimental.data.gaussian import *\n",
    "from dataclasses import dataclass\n",
    "from typing import List, Dict\n",
    "%load_ext autoreload\n",
    "%autoreload 2"
   ]
  },
  {
   "cell_type": "markdown",
   "id": "7c8a907b",
   "metadata": {},
   "source": [
    "Remember that our simulation can be viewed as a function\n",
    "$$\n",
    "f: \\mathcal{X} \\to \\mathcal{Y}.\n",
    "$$\n",
    "Suppose that the output space if `d`-dimensional, i.e. $\\mathcal{Y} \\subseteq \\mathbb{R}^d$, and suppose we choose `n` sampling locations in the input space $\\mathcal{X}$. Suppose that, for each each sampling location, we sample `k` times. Then we'd get a tensor of shape `(k, n, d)`. Let's start with that."
   ]
  },
  {
   "cell_type": "code",
   "execution_count": 2,
   "id": "d9c627cc",
   "metadata": {},
   "outputs": [],
   "source": [
    "k, n, d = 1000, 50, 3\n",
    "samples = torch.rand(k, n, d)"
   ]
  },
  {
   "cell_type": "markdown",
   "id": "7536409f",
   "metadata": {},
   "source": [
    "## Structured covariances\n",
    "\n",
    "By using structured covariances we can use theoretical properties to speed up the computation of things such as the log determinant, trace, and maximum eigenvalue of the covariance matrix."
   ]
  },
  {
   "cell_type": "code",
   "execution_count": 6,
   "id": "32c94e7b",
   "metadata": {},
   "outputs": [
    {
     "name": "stdout",
     "output_type": "stream",
     "text": [
      "Block_Diagonal\n",
      "tensor([-3.7325e+02,  1.2475e+01,  9.7242e-02])\n",
      "tensor([-3.7325e+02,  1.2475e+01,  9.7242e-02])\n",
      "\n",
      "Diagonal\n",
      "tensor([-3.7310e+02,  1.2475e+01,  8.9905e-02])\n",
      "tensor([-3.7310e+02,  1.2475e+01,  8.9905e-02])\n",
      "\n",
      "Dirac\n",
      "tensor([-inf, 0., 0.])\n",
      "tensor([-inf, 0., 0.])\n",
      "\n"
     ]
    }
   ],
   "source": [
    "def verify_dense(classes: List[Structured], k: int, n: int, d: int):\n",
    "    samples = torch.rand(k, n, d)\n",
    "    for cls in classes:\n",
    "        dist_struct = cls.from_dense(Empirical(samples))\n",
    "        dist_dense = dist_struct.to_dense()\n",
    "        res_dense = torch.stack([\n",
    "            dist_dense.logdet(),\n",
    "            dist_dense.trace(),\n",
    "            dist_dense.max_eig()\n",
    "        ])\n",
    "        res_struct = torch.stack([\n",
    "            dist_struct.logdet(),\n",
    "            dist_struct.trace(),\n",
    "            dist_struct.max_eig()\n",
    "        ])\n",
    "        print(f\"{cls.__name__}\")\n",
    "        print(res_dense)\n",
    "        print(res_struct)\n",
    "        print()\n",
    "\n",
    "\n",
    "verify_dense([Block_Diagonal, Diagonal, Dirac], k, n, d)"
   ]
  },
  {
   "cell_type": "code",
   "execution_count": 120,
   "id": "eebe3270",
   "metadata": {},
   "outputs": [],
   "source": [
    "def difference(f0, f1):\n",
    "    t0 = time.perf_counter()\n",
    "    r0 = f0()\n",
    "    t1 = time.perf_counter()\n",
    "    T0 = t1 - t0\n",
    "    r1 = f1()\n",
    "    t2 = time.perf_counter()\n",
    "    T1 = t2 - t1\n",
    "    return float(T1 - T0), float(abs(r1 - r0))"
   ]
  },
  {
   "cell_type": "code",
   "execution_count": 124,
   "id": "d37286ea",
   "metadata": {},
   "outputs": [],
   "source": [
    "def compare(\n",
    "    classes: List[Structured], \n",
    "    n_list: List[int],\n",
    "    d_list: List[int],\n",
    "    n_runs: int\n",
    ") -> List[Dict[str, Any]]:\n",
    "    results = []\n",
    "    for n in n_list:\n",
    "        for d in d_list:\n",
    "            for cls in classes:\n",
    "                for _ in range(n_runs):\n",
    "                    dense   = Empirical(torch.randn(k, n, d))\n",
    "                    struct  = cls.from_dense(dense)\n",
    "                    for fd, fs in zip(\n",
    "                        [struct.logdet, struct.trace, struct.max_eig],\n",
    "                        [dense.logdet,   dense.trace,   dense.max_eig]\n",
    "                    ):\n",
    "                        t, e = difference(fd, fs)\n",
    "                        results.append({\n",
    "                            \"Type\":      cls.__name__,\n",
    "                            \"Dimension\": n * d,\n",
    "                            \"Metric\":    fd.__name__,\n",
    "                            \"Time\":      t,\n",
    "                            \"Error\":     e\n",
    "                        })\n",
    "    return results"
   ]
  },
  {
   "cell_type": "code",
   "execution_count": 168,
   "id": "1b36ad09",
   "metadata": {},
   "outputs": [],
   "source": [
    "results = compare(\n",
    "    classes=[Block_Diagonal, Diagonal, Separable, Dirac],\n",
    "    n_list=[10, 20],\n",
    "    d_list=[3, 6, 8],\n",
    "    n_runs=100\n",
    ")\n",
    "results = pd.DataFrame(results)"
   ]
  },
  {
   "cell_type": "code",
   "execution_count": 169,
   "id": "4015951d",
   "metadata": {},
   "outputs": [],
   "source": [
    "summary = (\n",
    "    results\n",
    "    .groupby(['Type','Dimension','Metric'])\n",
    "    .agg(\n",
    "        time_mean  = ('Time',  'mean'),\n",
    "        time_std   = ('Time',  'std'),\n",
    "        error_mean = ('Error', 'mean'),\n",
    "        error_std  = ('Error', 'std'),\n",
    "    )\n",
    "    .reset_index()\n",
    ")"
   ]
  },
  {
   "cell_type": "code",
   "execution_count": 171,
   "id": "f74faee5",
   "metadata": {},
   "outputs": [
    {
     "data": {
      "image/png": "[encoded data removed]",
      "text/plain": [
       "<Figure size 640x480 with 1 Axes>"
      ]
     },
     "metadata": {},
     "output_type": "display_data"
    }
   ],
   "source": [
    "import matplotlib.pyplot as plt\n",
    "s = summary[\n",
    "    (summary['Type'] == 'Block_Diagonal') &\n",
    "    (summary['Metric'] == 'max_eig')\n",
    "]\n",
    "plt.plot(s['Dimension'], s['time_mean'])\n",
    "plt.fill_between(\n",
    "    s['Dimension'],\n",
    "    s['time_mean'] - s['time_std'],\n",
    "    s['time_mean'] + s['time_std'],\n",
    "    alpha=0.2\n",
    ")\n",
    "s = summary[\n",
    "    (summary['Type'] == 'Diagonal') &\n",
    "    (summary['Metric'] == 'max_eig')\n",
    "]\n",
    "plt.plot(s['Dimension'], s['time_mean'])\n",
    "plt.fill_between(\n",
    "    s['Dimension'],\n",
    "    s['time_mean'] - s['time_std'],\n",
    "    s['time_mean'] + s['time_std'],\n",
    "    alpha=0.2\n",
    ")\n",
    "plt.tight_layout()\n",
    "plt.show()"
   ]
  },
  {
   "cell_type": "markdown",
   "id": "8bff2ff4",
   "metadata": {},
   "source": [
    "## Ensemble of Gaussians"
   ]
  },
  {
   "cell_type": "markdown",
   "id": "2c69ba28",
   "metadata": {},
   "source": [
    "Let $K \\in \\mathbb{N}$ be the number of Gaussians. Then the mean and covariance of an ensemble of Gaussians is given by\n",
    "\n",
    "$$\n",
    "\\mu\n",
    "= \\frac{1}{K}\n",
    "  \\sum_{i=1}^{K}\n",
    "    \\mu_i,\n",
    "$$\n",
    "$$\n",
    "\\Sigma\n",
    "= \\frac{1}{K}\n",
    "  \\sum_{i=1}^{K}\n",
    "    \\Sigma_i\n",
    "+\n",
    "  \\frac{1}{K - 1}\n",
    "  \\sum_{i=1}^{K}\n",
    "    \\bigl(\\mu_i - \\mu\\bigr)\n",
    "    \\bigl(\\mu_i - \\mu\\bigr)^\\top.\n",
    "$$"
   ]
  },
  {
   "cell_type": "code",
   "execution_count": 47,
   "id": "71a5373e",
   "metadata": {},
   "outputs": [
    {
     "data": {
      "text/plain": [
       "(tensor(-29.7939), tensor(0.4056), tensor(0.1747))"
      ]
     },
     "execution_count": 47,
     "metadata": {},
     "output_type": "execute_result"
    }
   ],
   "source": [
    "dist_ens = Ensemble([\n",
    "    dist_dense, dist_bd, dist_diag, dist_dirac, dist_sep\n",
    "])\n",
    "dist_ens.logdet(), dist_ens.trace(), dist_ens.max_eig()"
   ]
  }
 ],
 "metadata": {
  "kernelspec": {
   "display_name": ".venv",
   "language": "python",
   "name": "python3"
  },
  "language_info": {
   "codemirror_mode": {
    "name": "ipython",
    "version": 3
   },
   "file_extension": ".py",
   "mimetype": "text/x-python",
   "name": "python",
   "nbconvert_exporter": "python",
   "pygments_lexer": "ipython3",
   "version": "3.12.0"
  }
 },
 "nbformat": 4,
 "nbformat_minor": 5
}
