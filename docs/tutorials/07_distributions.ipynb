{
 "cells": [
  {
   "cell_type": "markdown",
   "id": "d9ec04b8",
   "metadata": {},
   "source": [
    "# Distributions"
   ]
  },
  {
   "cell_type": "markdown",
   "id": "6a909646",
   "metadata": {},
   "source": [
    "Suppose we are trying to emulate a simulator's outputs $f(x) \\in \\mathbb{R}^d$. If we consider a batch of $n$ outputs then then we'd want to retrieve output means $\\mu \\in \\mathbb{R}^{nd}$ and covariances $\\Sigma \\in \\mathbb{R}^{nd \\times nd}$.\n",
    "$$\n",
    "\\Sigma =\n",
    "\\begin{bmatrix}\n",
    "\\Sigma_{11} & \\Sigma_{12} & \\cdots & \\Sigma_{1n} \\\\[6pt]\n",
    "\\Sigma_{21} & \\Sigma_{22} & \\cdots & \\Sigma_{2n} \\\\[6pt]\n",
    "\\vdots      & \\vdots      & \\ddots & \\vdots      \\\\[6pt]\n",
    "\\Sigma_{n1} & \\Sigma_{n2} & \\cdots & \\Sigma_{nn}\n",
    "\\end{bmatrix} \\in \\mathbb{R}^{nd \\times nd}\n",
    "\\quad \\text{s.t.} \\quad \n",
    "\\Sigma_{ij} \\in \\mathbb{R}^{d \\times d}\n",
    "$$\n",
    "where $\\Sigma_{ii}$ is the *marginal covariance* and $\\Sigma_{ij}$ is the *cross-covariance*."
   ]
  },
  {
   "cell_type": "markdown",
   "id": "8c0ce577",
   "metadata": {},
   "source": [
    "There are a couple of scenarios we want to consider:\n",
    "1. **Full**: no simplification to the above covariance matrix.\n",
    "2. **Block-diagonal**: $\\Sigma_{ij} = 0$ for all $i\\neq j$, i.e. no correlations between samples.\n",
    "3. **Diagonal**: $\\Sigma_{ij} = 0$ for all $i\\neq j$ and $\\Sigma_{ii}^{(a, b)} = 0$ for all $a \\neq b$, i.e. no correlations between sample dimensions.\n",
    "4. **Seperable**: $\\Sigma = \\Sigma_{N} \\otimes \\Sigma_{D}$ s.t. $\\Sigma_{\\text{N}} \\in \\mathbb{R}^{n \\times n}$ and $\\Sigma_{\\text{D}} \\in \\mathbb{R}^{d \\times d}$, i.e. correlations between samples and dimensions are modelled seperately. \n",
    "\n",
    "Note that:\n",
    "$$\n",
    "\\begin{aligned}\n",
    "\\text{Full} &\\supseteq \\text{Block-Diagonal} \\supseteq \\text{Diagonal} \\\\\n",
    "\\text{Full} &\\supseteq \\text{Seperable}\n",
    "\\end{aligned}\n",
    "$$"
   ]
  },
  {
   "cell_type": "code",
   "execution_count": 56,
   "id": "528bc08a",
   "metadata": {},
   "outputs": [
    {
     "name": "stdout",
     "output_type": "stream",
     "text": [
      "The autoreload extension is already loaded. To reload it, use:\n",
      "  %reload_ext autoreload\n"
     ]
    }
   ],
   "source": [
    "import torch, time\n",
    "from autoemulate.experimental.data.gaussian import Dense, BlockDiagonal, Diagonal, Separable\n",
    "%load_ext autoreload\n",
    "%autoreload 2"
   ]
  },
  {
   "cell_type": "code",
   "execution_count": 32,
   "id": "8e38f380",
   "metadata": {},
   "outputs": [],
   "source": [
    "n, d = 4, 3\n",
    "mean = torch.randn(n, d)"
   ]
  },
  {
   "cell_type": "markdown",
   "id": "3ab360d2",
   "metadata": {},
   "source": [
    "## Full $(nd, nd)$ covariance"
   ]
  },
  {
   "cell_type": "code",
   "execution_count": 33,
   "id": "f2d7b37e",
   "metadata": {},
   "outputs": [
    {
     "data": {
      "text/plain": [
       "(tensor(19.2076), tensor(159.7938), tensor(37.4083))"
      ]
     },
     "execution_count": 33,
     "metadata": {},
     "output_type": "execute_result"
    }
   ],
   "source": [
    "cov = torch.randn(n*d, n*d)\n",
    "cov = cov @ cov.T\n",
    "dist = Dense(mean, cov)\n",
    "dist.logdet(), dist.trace(), dist.max_eig()"
   ]
  },
  {
   "cell_type": "markdown",
   "id": "e03f98ae",
   "metadata": {},
   "source": [
    "## Block-diagonal $(n, d, d)$ covariance"
   ]
  },
  {
   "cell_type": "code",
   "execution_count": 34,
   "id": "298fd2ec",
   "metadata": {},
   "outputs": [
    {
     "data": {
      "text/plain": [
       "(tensor(1.3373), tensor(51.1198), tensor(13.1288))"
      ]
     },
     "execution_count": 34,
     "metadata": {},
     "output_type": "execute_result"
    }
   ],
   "source": [
    "cov = torch.randn(n, d, d)\n",
    "cov = cov @ cov.transpose(-1, -2) + torch.eye(d) * 1e-4\n",
    "dist = BlockDiagonal(mean, cov)\n",
    "dist.logdet(), dist.trace(), dist.max_eig()"
   ]
  },
  {
   "cell_type": "markdown",
   "id": "d92e4a58",
   "metadata": {},
   "source": [
    "## Diagonal $(n, d)$ covariance"
   ]
  },
  {
   "cell_type": "code",
   "execution_count": 35,
   "id": "122524dc",
   "metadata": {},
   "outputs": [
    {
     "data": {
      "text/plain": [
       "(tensor(-14.7925), tensor(5.3312), tensor(1.3319))"
      ]
     },
     "execution_count": 35,
     "metadata": {},
     "output_type": "execute_result"
    }
   ],
   "source": [
    "cov = torch.abs(torch.randn(n, d))\n",
    "dist = Diagonal(mean, cov)\n",
    "dist.logdet(), dist.trace(), dist.max_eig()"
   ]
  },
  {
   "cell_type": "markdown",
   "id": "a2319150",
   "metadata": {},
   "source": [
    "## Seperable $(n, n)$ and $(d, d)$ covariance"
   ]
  },
  {
   "cell_type": "code",
   "execution_count": 36,
   "id": "ca02bccb",
   "metadata": {},
   "outputs": [
    {
     "data": {
      "text/plain": [
       "(tensor(-0.6665), tensor(98.4998), tensor(39.5591))"
      ]
     },
     "execution_count": 36,
     "metadata": {},
     "output_type": "execute_result"
    }
   ],
   "source": [
    "cov_n = torch.randn(n, n)\n",
    "cov_n = cov_n @ cov_n.T + torch.eye(n) * 1e-4\n",
    "cov_d = torch.randn(d, d)\n",
    "cov_d = cov_d @ cov_d.T + torch.eye(d) * 1e-4\n",
    "dist = Separable(mean, cov_n, cov_d)\n",
    "dist.logdet(), dist.trace(), dist.max_eig()"
   ]
  },
  {
   "cell_type": "markdown",
   "id": "2c68a086",
   "metadata": {},
   "source": [
    "## Comparing dense to specializations"
   ]
  },
  {
   "cell_type": "code",
   "execution_count": null,
   "id": "8a99484a",
   "metadata": {},
   "outputs": [],
   "source": [
    "def time_ops(n: int, d: int, n_trials: int):\n",
    "\n",
    "    # Covariances\n",
    "    cov_block = torch.randn(n, d, d)\n",
    "    cov_block = cov_block @ cov_block.transpose(-1, -2) + torch.eye(d) * 1e-4\n",
    "    cov_diag = torch.abs(torch.randn(n, d))\n",
    "    cov_n = torch.randn(n, n)\n",
    "    cov_n = cov_n @ cov_n.T + torch.eye(n) * 1e-4\n",
    "    cov_d = torch.randn(d, d)\n",
    "    cov_d = cov_d @ cov_d.T + torch.eye(d) * 1e-4\n",
    "\n",
    "    # Dense versions\n",
    "    dense_block = torch.block_diag(*cov_block)\n",
    "    dense_diag = torch.diag(cov_diag.flatten())\n",
    "    dense_separable = torch.kron(cov_n, cov_d)\n",
    "\n",
    "    # Distributions\n",
    "    dist_dense_block = Dense(mean, dense_block)\n",
    "    dist_block = BlockDiagonal(mean, cov_block)\n",
    "    dist_dense_diag = Dense(mean, dense_diag)\n",
    "    dist_diag = Diagonal(mean, cov_diag)\n",
    "    dist_dense_separable = Dense(mean, dense_separable)\n",
    "    dist_separable = Separable(mean, cov_n, cov_d)"
   ]
  },
  {
   "cell_type": "code",
   "execution_count": 55,
   "id": "e38e358b",
   "metadata": {},
   "outputs": [
    {
     "data": {
      "text/plain": [
       "tensor([[0.1070, 0.0000, 0.0000, 0.0000, 0.0000, 0.0000, 0.0000, 0.0000, 0.0000,\n",
       "         0.0000, 0.0000, 0.0000],\n",
       "        [0.0000, 0.3002, 0.0000, 0.0000, 0.0000, 0.0000, 0.0000, 0.0000, 0.0000,\n",
       "         0.0000, 0.0000, 0.0000],\n",
       "        [0.0000, 0.0000, 0.1768, 0.0000, 0.0000, 0.0000, 0.0000, 0.0000, 0.0000,\n",
       "         0.0000, 0.0000, 0.0000],\n",
       "        [0.0000, 0.0000, 0.0000, 1.9874, 0.0000, 0.0000, 0.0000, 0.0000, 0.0000,\n",
       "         0.0000, 0.0000, 0.0000],\n",
       "        [0.0000, 0.0000, 0.0000, 0.0000, 1.6125, 0.0000, 0.0000, 0.0000, 0.0000,\n",
       "         0.0000, 0.0000, 0.0000],\n",
       "        [0.0000, 0.0000, 0.0000, 0.0000, 0.0000, 0.5119, 0.0000, 0.0000, 0.0000,\n",
       "         0.0000, 0.0000, 0.0000],\n",
       "        [0.0000, 0.0000, 0.0000, 0.0000, 0.0000, 0.0000, 1.3682, 0.0000, 0.0000,\n",
       "         0.0000, 0.0000, 0.0000],\n",
       "        [0.0000, 0.0000, 0.0000, 0.0000, 0.0000, 0.0000, 0.0000, 0.5751, 0.0000,\n",
       "         0.0000, 0.0000, 0.0000],\n",
       "        [0.0000, 0.0000, 0.0000, 0.0000, 0.0000, 0.0000, 0.0000, 0.0000, 0.7662,\n",
       "         0.0000, 0.0000, 0.0000],\n",
       "        [0.0000, 0.0000, 0.0000, 0.0000, 0.0000, 0.0000, 0.0000, 0.0000, 0.0000,\n",
       "         0.6083, 0.0000, 0.0000],\n",
       "        [0.0000, 0.0000, 0.0000, 0.0000, 0.0000, 0.0000, 0.0000, 0.0000, 0.0000,\n",
       "         0.0000, 0.3735, 0.0000],\n",
       "        [0.0000, 0.0000, 0.0000, 0.0000, 0.0000, 0.0000, 0.0000, 0.0000, 0.0000,\n",
       "         0.0000, 0.0000, 1.2400]])"
      ]
     },
     "execution_count": 55,
     "metadata": {},
     "output_type": "execute_result"
    }
   ],
   "source": [
    "torch.diag(torch.abs(torch.randn(n, d)).flatten())"
   ]
  },
  {
   "cell_type": "code",
   "execution_count": 45,
   "id": "814df098",
   "metadata": {},
   "outputs": [
    {
     "data": {
      "text/plain": [
       "torch.Size([12, 12])"
      ]
     },
     "execution_count": 45,
     "metadata": {},
     "output_type": "execute_result"
    }
   ],
   "source": [
    "torch.block_diag(*torch.randn(n, d, d)).shape"
   ]
  },
  {
   "cell_type": "code",
   "execution_count": null,
   "id": "d9d63533",
   "metadata": {},
   "outputs": [],
   "source": []
  },
  {
   "cell_type": "code",
   "execution_count": null,
   "id": "e5f1b767",
   "metadata": {},
   "outputs": [],
   "source": [
    "import timeit\n",
    "import torch\n",
    "import pandas as pd\n",
    "from dataclasses import dataclass\n",
    "\n",
    "# — your refactored classes (Gaussian, Dense, BlockDiagonal, Diagonal, Separable) —\n",
    "# Paste them here before running the benchmark\n",
    "\n",
    "# Helper to generate a random SPD matrix of size m×m\n",
    "def random_spd(m: int) -> torch.Tensor:\n",
    "    A = torch.randn(m, m)\n",
    "    return A @ A.T + m * torch.eye(m)\n",
    "\n",
    "def benchmark(fn, repeats=5):\n",
    "    t = timeit.Timer(fn)\n",
    "    # run `fn()` once per repeat, take the average\n",
    "    times = t.repeat(repeat=repeats, number=1)\n",
    "    return sum(times) / len(times)\n",
    "\n",
    "def main():\n",
    "    # Choose sizes small enough to fit in memory\n",
    "    n, d = 10, 10\n",
    "    nd = n * d\n",
    "\n",
    "    mean = torch.randn(n, d)\n",
    "    cov_dense   = random_spd(nd)\n",
    "    cov_blocks  = torch.stack([random_spd(d) for _ in range(n)])\n",
    "    cov_diag    = torch.rand(n, d) + 0.1\n",
    "    cov_sep_n   = random_spd(n)\n",
    "    cov_sep_d   = random_spd(d)\n",
    "\n",
    "    # Instantiate\n",
    "    dense = Dense(mean, cov_dense)\n",
    "    block = BlockDiagonal(mean, cov_blocks)\n",
    "    diag  = Diagonal(mean, cov_diag)\n",
    "    sep   = Separable(mean, cov_sep_n, cov_sep_d)\n",
    "\n",
    "    rows = []\n",
    "    for name, obj in [\n",
    "        (\"Dense\", dense),\n",
    "        (\"BlockDiagonal\", block),\n",
    "        (\"Diagonal\", diag),\n",
    "        (\"Separable\", sep),\n",
    "    ]:\n",
    "        rows.append({\n",
    "            \"Method\": name,\n",
    "            \"logdet (s)\":  benchmark(obj.logdet),\n",
    "            \"trace   (s)\":  benchmark(obj.trace),\n",
    "            \"max_eig (s)\":  benchmark(obj.max_eig),\n",
    "        })\n",
    "\n",
    "    df = pd.DataFrame(rows)\n",
    "    print(df)"
   ]
  },
  {
   "cell_type": "code",
   "execution_count": 38,
   "id": "eb7c91c7",
   "metadata": {},
   "outputs": [
    {
     "name": "stdout",
     "output_type": "stream",
     "text": [
      "          Method  logdet (s)  trace   (s)  max_eig (s)\n",
      "0          Dense    0.002031     0.000011     0.000645\n",
      "1  BlockDiagonal    0.000418     0.000009     0.000124\n",
      "2       Diagonal    0.000008     0.000003     0.000007\n",
      "3      Separable    0.000098     0.000006     0.000088\n"
     ]
    }
   ],
   "source": [
    "main()"
   ]
  },
  {
   "cell_type": "code",
   "execution_count": null,
   "id": "cfd4ea00",
   "metadata": {},
   "outputs": [],
   "source": []
  }
 ],
 "metadata": {
  "kernelspec": {
   "display_name": ".venv",
   "language": "python",
   "name": "python3"
  },
  "language_info": {
   "codemirror_mode": {
    "name": "ipython",
    "version": 3
   },
   "file_extension": ".py",
   "mimetype": "text/x-python",
   "name": "python",
   "nbconvert_exporter": "python",
   "pygments_lexer": "ipython3",
   "version": "3.12.0"
  }
 },
 "nbformat": 4,
 "nbformat_minor": 5
}
