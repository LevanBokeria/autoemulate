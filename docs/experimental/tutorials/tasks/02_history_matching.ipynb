{
 "cells": [
  {
   "cell_type": "markdown",
   "metadata": {},
   "source": [
    "# History Matching"
   ]
  },
  {
   "cell_type": "markdown",
   "metadata": {},
   "source": [
    "In this tutorial we demonstrate the use of History Matching to determine which points in the input space are plausible given a set of observations. \n",
    "\n",
    "Performing History Matching requires:\n",
    "- a fit emulator that predicts uncertainty (e.g., Gaussian Process) and \n",
    "- an observation associated with the simulator output. \n",
    "\n",
    "The emulator is used to efficiently estimate the simulator output, accounting for all uncertainties. The emulated output is compared with the observation and parameter inputs that are unlikely to produce the observation can then be “ruled out” as implausible, reducing the input space."
   ]
  },
  {
   "cell_type": "code",
   "execution_count": 1,
   "metadata": {},
   "outputs": [],
   "source": [
    "from autoemulate.experimental.emulators.gaussian_process.exact import (\n",
    "    GaussianProcessExact,\n",
    ")\n",
    "from autoemulate.experimental.compare import AutoEmulate\n",
    "from autoemulate.experimental.simulations.projectile import Projectile\n",
    "from autoemulate.experimental.calibration.history_matching import HistoryMatching"
   ]
  },
  {
   "cell_type": "markdown",
   "metadata": {},
   "source": [
    "## 1. Simulate data and train a GP"
   ]
  },
  {
   "cell_type": "code",
   "execution_count": 2,
   "metadata": {},
   "outputs": [
    {
     "name": "stderr",
     "output_type": "stream",
     "text": [
      "Running simulations: 100%|██████████| 100/100 [00:00<00:00, 773sample/s] \n"
     ]
    }
   ],
   "source": [
    "simulator = Projectile()\n",
    "x = simulator.sample_inputs(100)\n",
    "y = simulator.forward_batch(x)"
   ]
  },
  {
   "cell_type": "code",
   "execution_count": 3,
   "metadata": {},
   "outputs": [
    {
     "name": "stderr",
     "output_type": "stream",
     "text": [
      "Comparing models: 100%|██████████| 1.00/1.00 [00:04<00:00, 4.22s/model]\n"
     ]
    }
   ],
   "source": [
    "ae = AutoEmulate(x, y, models=[GaussianProcessExact])"
   ]
  },
  {
   "cell_type": "code",
   "execution_count": 4,
   "metadata": {},
   "outputs": [],
   "source": [
    "model = ae.best_result().model"
   ]
  },
  {
   "cell_type": "markdown",
   "metadata": {},
   "source": [
    "## 2. Make predictions for new data\n",
    "\n",
    "For History Matching we need both the predited mean and variance."
   ]
  },
  {
   "cell_type": "code",
   "execution_count": 5,
   "metadata": {},
   "outputs": [],
   "source": [
    "x_new = simulator.sample_inputs(10)\n",
    "pred = model.predict(x_new)\n",
    "pred_means, pred_vars = pred.mean, pred.variance"
   ]
  },
  {
   "cell_type": "markdown",
   "metadata": {},
   "source": [
    "## 3. Use History Matching\n",
    "\n",
    "Instantiate the object with an observed mean and variance for each simulator output."
   ]
  },
  {
   "cell_type": "code",
   "execution_count": 9,
   "metadata": {},
   "outputs": [],
   "source": [
    "# Define observed data (mean, variance)\n",
    "observations = {\"distance\": (2500, 100)}\n",
    "\n",
    "hm = HistoryMatching(observations=observations)"
   ]
  },
  {
   "cell_type": "markdown",
   "metadata": {},
   "source": [
    "Primary use is the `calculate_implausibility` method, which returns the implausibility metric (a number of standard deviations between the emulator mean and the observation) for a number of query points."
   ]
  },
  {
   "cell_type": "code",
   "execution_count": 10,
   "metadata": {},
   "outputs": [
    {
     "data": {
      "text/plain": [
       "tensor([[ 3.1149],\n",
       "        [ 0.4873],\n",
       "        [16.8701],\n",
       "        [ 2.3263],\n",
       "        [ 1.6580],\n",
       "        [ 3.5040],\n",
       "        [ 1.8364],\n",
       "        [ 2.7249],\n",
       "        [ 1.0752],\n",
       "        [ 2.2600]])"
      ]
     },
     "execution_count": 10,
     "metadata": {},
     "output_type": "execute_result"
    }
   ],
   "source": [
    "implausability = hm.calculate_implausibility(pred_means, pred_vars)\n",
    "implausability"
   ]
  },
  {
   "cell_type": "markdown",
   "metadata": {},
   "source": [
    "One can use the implausability scores to filter out the queried parameters and only retain the plausible inputs."
   ]
  },
  {
   "cell_type": "code",
   "execution_count": 8,
   "metadata": {},
   "outputs": [
    {
     "data": {
      "text/plain": [
       "tensor([[-4.8018e+00,  2.5947e+01],\n",
       "        [ 5.7713e-01,  7.3016e+02],\n",
       "        [-1.8748e+00,  8.6431e+02],\n",
       "        [-2.1908e+00,  2.7631e+02],\n",
       "        [-1.2487e-01,  5.8680e+02],\n",
       "        [-2.8496e+00,  4.3097e+02],\n",
       "        [-4.2419e-01,  1.0625e+02]])"
      ]
     },
     "execution_count": 8,
     "metadata": {},
     "output_type": "execute_result"
    }
   ],
   "source": [
    "hm.get_nroy(implausability, x_new)"
   ]
  }
 ],
 "metadata": {
  "kernelspec": {
   "display_name": ".venv",
   "language": "python",
   "name": "python3"
  },
  "language_info": {
   "codemirror_mode": {
    "name": "ipython",
    "version": 3
   },
   "file_extension": ".py",
   "mimetype": "text/x-python",
   "name": "python",
   "nbconvert_exporter": "python",
   "pygments_lexer": "ipython3",
   "version": "3.12.7"
  }
 },
 "nbformat": 4,
 "nbformat_minor": 2
}
